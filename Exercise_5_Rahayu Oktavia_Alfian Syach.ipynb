{
  "nbformat": 4,
  "nbformat_minor": 0,
  "metadata": {
    "kernelspec": {
      "display_name": "Python 3",
      "language": "python",
      "name": "python3"
    },
    "language_info": {
      "codemirror_mode": {
        "name": "ipython",
        "version": 3
      },
      "file_extension": ".py",
      "mimetype": "text/x-python",
      "name": "python",
      "nbconvert_exporter": "python",
      "pygments_lexer": "ipython3",
      "version": "3.7.7"
    },
    "colab": {
      "provenance": []
    }
  },
  "cells": [
    {
      "cell_type": "markdown",
      "metadata": {
        "id": "ymYwna_9LdCx"
      },
      "source": [
        "<h4> Lakukan Latihan Berikut </h4>\n",
        "\n",
        "\n",
        "\n",
        "1. Buatlah Tuple of Days dalam seminggu (\"monday\", ...), simpan dalam variabel \"week\" dan cetak\n",
        "2. Berapa panjang dari \"week\"?\n",
        "3. Gunakan count() untuk menghitung berapa kali kata \"saturday\" disebutkan dalam tuple\n",
        "4. Carilah index dari \"wednesday\"\n",
        "5. Tambahkan variabel \"week\" dengan (1, 2, 3, 4, 5, 6, 7)\n",
        "6. Bagaimana untuk mendapatkan (\"saturday\", \"sunday\", 1, 2, 3)?"
      ]
    },
    {
      "cell_type": "code",
      "metadata": {
        "id": "NZbCggrvLdC8",
        "colab": {
          "base_uri": "https://localhost:8080/"
        },
        "outputId": "468e8f9a-8431-423d-95c4-2a6b7bd3902c"
      },
      "source": [
        "# 1\n",
        "week = ('monday', 'tuesday', 'wednesday', 'thursday', 'friday', 'saturday', 'sunday')\n",
        "print (week)\n",
        "print (type(week))"
      ],
      "execution_count": null,
      "outputs": [
        {
          "output_type": "stream",
          "name": "stdout",
          "text": [
            "('monday', 'tuesday', 'wednesday', 'thursday', 'friday', 'saturday', 'sunday')\n",
            "<class 'tuple'>\n"
          ]
        }
      ]
    },
    {
      "cell_type": "code",
      "metadata": {
        "id": "2c5NvHIcLdC_",
        "colab": {
          "base_uri": "https://localhost:8080/"
        },
        "outputId": "537f00fc-6100-41b0-e8a7-816ff681108b"
      },
      "source": [
        "# 2\n",
        "print (len(week))"
      ],
      "execution_count": null,
      "outputs": [
        {
          "output_type": "stream",
          "name": "stdout",
          "text": [
            "7\n"
          ]
        }
      ]
    },
    {
      "cell_type": "code",
      "metadata": {
        "id": "PDnCil_MLdDA",
        "colab": {
          "base_uri": "https://localhost:8080/"
        },
        "outputId": "0a2801c8-2fe4-4431-b693-557bf4a9a6c2"
      },
      "source": [
        "# 3\n",
        "week.count ('saturday')"
      ],
      "execution_count": null,
      "outputs": [
        {
          "output_type": "execute_result",
          "data": {
            "text/plain": [
              "1"
            ]
          },
          "metadata": {},
          "execution_count": 4
        }
      ]
    },
    {
      "cell_type": "code",
      "metadata": {
        "id": "hdcfX__tLdDB",
        "colab": {
          "base_uri": "https://localhost:8080/"
        },
        "outputId": "4a4aa483-305a-4ca1-9de9-8adb07bdbee3"
      },
      "source": [
        "# 4\n",
        "week.index ('wednesday')"
      ],
      "execution_count": null,
      "outputs": [
        {
          "output_type": "execute_result",
          "data": {
            "text/plain": [
              "2"
            ]
          },
          "metadata": {},
          "execution_count": 5
        }
      ]
    },
    {
      "cell_type": "code",
      "metadata": {
        "id": "dY7goNjzLdDC",
        "colab": {
          "base_uri": "https://localhost:8080/"
        },
        "outputId": "8cd45705-b86c-496d-e569-eb96774fe8df"
      },
      "source": [
        "# 5\n",
        "week = week + (1, 2, 3, 4, 5, 6, 7)\n",
        "print (week)"
      ],
      "execution_count": null,
      "outputs": [
        {
          "output_type": "stream",
          "name": "stdout",
          "text": [
            "('monday', 'tuesday', 'wednesday', 'thursday', 'friday', 'saturday', 'sunday', 1, 2, 3, 4, 5, 6, 7)\n"
          ]
        }
      ]
    },
    {
      "cell_type": "code",
      "source": [
        "# 6\n",
        "print (week[5:10])"
      ],
      "metadata": {
        "colab": {
          "base_uri": "https://localhost:8080/"
        },
        "id": "9gjxH19-y5Ee",
        "outputId": "ae7d1f47-59b7-444e-c79a-a2c833ae0877"
      },
      "execution_count": null,
      "outputs": [
        {
          "output_type": "stream",
          "name": "stdout",
          "text": [
            "('saturday', 'sunday', 1, 2, 3)\n"
          ]
        }
      ]
    },
    {
      "cell_type": "markdown",
      "metadata": {
        "id": "GM7io1olLdDG"
      },
      "source": [
        "<h4> Lakukan Latihan Berikut </h4>\n",
        "\n",
        "\n",
        "1. Jika Anda ingin mengundang teman anda untuk makan malam, siapa yang akan anda undang? Buatlah daftar (list) yang menyertakan setidaknya tiga orang yang ingin anda undang untuk makan malam. Kemudian gunakan daftar (list) tersebut untuk mencetak pesan kepada setiap mereka bahwa anda mengundang mereka untuk makan malam.\n",
        "\n",
        "2. Anda baru saja mendengar bahwa salah satu tamu Anda tidak dapat hadir makan malam. Oleh karena itu Anda perlu mengirimkan satu set undangan baru. Siapakah yang ada di pikiran anda untuk diundang. <br>\n",
        "    - Lakukan langkah yang sama seperti pertanyaan nomor 1. Tambahkan dengan menyebut siapa yang tidak dapat hadir dalam makan malam ini.\n",
        "    - Ubah daftar Anda, ganti nama tamu yang tidak bisa hadir dengan nama baru yang Anda undang. <br>\n",
        "    - Cetak undangan ke-2 dengan nama tamu yang baru dalam makan malam tersebut. <br>\n",
        "\n",
        "3. Anda baru saja menemukan meja makan yang lebih besar, jadi sekarang lebih banyak ruang tersedia. Pikirkan tiga tamu lagi untuk diundang makan malam.<br>\n",
        "Mulailah dengan program dari Latihan 1 atau 2. Tambahkan dengan mencetak pernyataan di akhir program untuk memberi tahu bahwa akan ada tambahan anggota dikarenakan meja makan dapat menampung banyak orang. \n",
        "\n",
        "    - Gunakan insert () untuk menambahkan satu tamu baru ke awal daftar Anda.\n",
        "    - Gunakan insert () untuk menambahkan satu tamu baru ke tengah daftar Anda.\n",
        "    - Gunakan append () untuk menambahkan satu tamu baru ke akhir daftar Anda.\n",
        "    - Cetak satu set pesan undangan baru, satu untuk setiap orang dalam daftar Anda.\n",
        "\n",
        "4. Anda baru saja mendapat konfirmasi bahwa ada kesalahan reservasi untuk acara makan malam anda. Meja anda hanya dapat menampung 2 orang tamu.\n",
        "    - Mulailah dengan program dari Latihan 3. Tambahkan baris baru yang mencetak pesan yang mengatakan bahwa Anda hanya dapat mengundang dua orang untuk makan malam.\n",
        "    - Gunakan pop() untuk menghapus tamu dari daftar Anda satu per satu sehingga hanya dua nama tetap ada dalam daftar tersebut. Setiap kali Anda memunculkan nama dari daftar tersebut, cetaklah pesan kepada tamu anda dan beri tahu mereka bahwa Anda menyesal tidak dapat mengundang mereka untuk makan malam.\n",
        "    - Cetak pesan kepada dua orang yang masih ada di daftar Anda, beritahukan mereka bahwa mereka masih diundang.\n",
        "    - Gunakan del untuk menghapus dua nama terakhir dari daftar Anda. Cetak daftar Anda untuk memastikan bahwa daftar tersebut kosong.<br>\n",
        "   Selamat mencoba"
      ]
    },
    {
      "cell_type": "code",
      "metadata": {
        "id": "BJ_AoApkLdDJ",
        "colab": {
          "base_uri": "https://localhost:8080/"
        },
        "outputId": "4464b121-54e4-4e03-f774-e916ea35dd76"
      },
      "source": [
        "# 1\n",
        "teman = ['niko', 'bagas', 'dede']\n",
        "for teman in teman:\n",
        "  print ('Hai,', teman, 'saya mengundang kalian untuk hadir diacara ulang tahunku')"
      ],
      "execution_count": null,
      "outputs": [
        {
          "output_type": "stream",
          "name": "stdout",
          "text": [
            "Hai, niko saya mengundang kalian untuk hadir diacara ulang tahunku\n",
            "Hai, bagas saya mengundang kalian untuk hadir diacara ulang tahunku\n",
            "Hai, dede saya mengundang kalian untuk hadir diacara ulang tahunku\n"
          ]
        }
      ]
    },
    {
      "cell_type": "code",
      "source": [
        "# 2\n",
        "teman = ['niko', 'bagas', 'dede']\n",
        "print (teman[2], 'tidak dapat hadir')\n",
        "teman[2] = 'paris'\n",
        "for teman in teman:\n",
        "  print (teman)"
      ],
      "metadata": {
        "colab": {
          "base_uri": "https://localhost:8080/"
        },
        "id": "vcMI6s2PC-M2",
        "outputId": "a0b29ed6-cc59-46a0-a02a-e027775b6300"
      },
      "execution_count": null,
      "outputs": [
        {
          "output_type": "stream",
          "name": "stdout",
          "text": [
            "dede tidak dapat hadir\n",
            "niko\n",
            "bagas\n",
            "paris\n"
          ]
        }
      ]
    },
    {
      "cell_type": "code",
      "metadata": {
        "id": "AOmJXWXvLdDK",
        "colab": {
          "base_uri": "https://localhost:8080/"
        },
        "outputId": "8e7ebd8b-c925-49ba-abb9-1e70a475a4b6"
      },
      "source": [
        "# 3\n",
        "teman = ['niko', 'bagas', 'paris']\n",
        "teman.insert (0, 'bayu')\n",
        "print (teman)\n",
        "\n",
        "teman.insert (2, 'ardi')\n",
        "print (teman)\n",
        "\n",
        "teman.append ('mohan')\n",
        "print (teman)\n",
        "\n",
        "for teman in teman:\n",
        "  print (teman, 'ini undangan baru untuk anda')"
      ],
      "execution_count": null,
      "outputs": [
        {
          "output_type": "stream",
          "name": "stdout",
          "text": [
            "['bayu', 'niko', 'bagas', 'paris']\n",
            "['bayu', 'niko', 'ardi', 'bagas', 'paris']\n",
            "['bayu', 'niko', 'ardi', 'bagas', 'paris', 'mohan']\n",
            "bayu ini undangan baru untuk anda\n",
            "niko ini undangan baru untuk anda\n",
            "ardi ini undangan baru untuk anda\n",
            "bagas ini undangan baru untuk anda\n",
            "paris ini undangan baru untuk anda\n",
            "mohan ini undangan baru untuk anda\n"
          ]
        }
      ]
    },
    {
      "cell_type": "code",
      "metadata": {
        "id": "BopVsQbILdDL",
        "colab": {
          "base_uri": "https://localhost:8080/"
        },
        "outputId": "ba1e645c-a679-40e6-c04e-1b811469dbaf"
      },
      "source": [
        "# 4\n",
        "teman = ['bayu', 'niko', 'ardi', 'bagas', 'paris', 'mohan']\n",
        "for teman in teman:\n",
        "  if teman == 'niko':\n",
        "    print (teman, 'saya masih mengundang anda untuk makan malam')\n",
        "  elif teman == 'bagas':\n",
        "    print (teman, 'saya masih mengundang anda untuk makan malam')\n",
        "  else:\n",
        "    print ('maaf', teman, 'saya tidak dapat mengundang anda untuk makan malam')\n",
        "\n",
        "teman = ['bayu', 'niko', 'ardi', 'bagas', 'paris', 'mohan']\n",
        "teman.pop (0)\n",
        "teman.pop (1)\n",
        "teman.pop (2)\n",
        "teman.pop (2)\n",
        "print (teman)"
      ],
      "execution_count": null,
      "outputs": [
        {
          "output_type": "stream",
          "name": "stdout",
          "text": [
            "maaf bayu saya tidak dapat mengundang anda untuk makan malam\n",
            "niko saya masih mengundang anda untuk makan malam\n",
            "maaf ardi saya tidak dapat mengundang anda untuk makan malam\n",
            "bagas saya masih mengundang anda untuk makan malam\n",
            "maaf paris saya tidak dapat mengundang anda untuk makan malam\n",
            "maaf mohan saya tidak dapat mengundang anda untuk makan malam\n",
            "['niko', 'bagas']\n"
          ]
        }
      ]
    },
    {
      "cell_type": "code",
      "source": [
        "# 5\n",
        "teman = ['niko', 'bagas']\n",
        "for teman in teman:\n",
        "  print (teman, 'anda masih diundang dalam acara makan malam')"
      ],
      "metadata": {
        "colab": {
          "base_uri": "https://localhost:8080/"
        },
        "id": "kjq6TFG6NdY7",
        "outputId": "c5ca3dca-f4e7-4457-c013-c54e5164c1ca"
      },
      "execution_count": null,
      "outputs": [
        {
          "output_type": "stream",
          "name": "stdout",
          "text": [
            "niko anda masih diundang dalam acara makan malam\n",
            "bagas anda masih diundang dalam acara makan malam\n"
          ]
        }
      ]
    },
    {
      "cell_type": "code",
      "source": [
        "# 6\n",
        "teman = {'niko': 'diundang', 'bagas': 'diundang'}\n",
        "\n",
        "del teman ['niko']\n",
        "del teman ['bagas']\n",
        "print (teman)"
      ],
      "metadata": {
        "colab": {
          "base_uri": "https://localhost:8080/"
        },
        "id": "oxhXDlZuOAKq",
        "outputId": "09cf7207-f68f-479a-8cc3-58eea605b100"
      },
      "execution_count": null,
      "outputs": [
        {
          "output_type": "stream",
          "name": "stdout",
          "text": [
            "{}\n"
          ]
        }
      ]
    },
    {
      "cell_type": "markdown",
      "metadata": {
        "id": "9E-9eVg7LdDL"
      },
      "source": [
        "<h4> Lakukan Latihan Berikut </h4>\n",
        "\n",
        "\n",
        "\n",
        "\n",
        "1. Gunakan dictionary untuk menyimpan informasi tentang orang yang Anda kenal.\n",
        "Simpan nama depan, nama belakang, umur, dan kota tempat mereka tinggal. Anda\n",
        "akan memiliki kunci seperti first_name, last_name, age, dan city. Cetak masing-masing informasi yang disimpan dalam dictionary tersebut.\n",
        "\n",
        "2. Gunakan dictionary untuk menyimpan nomor favorit orang.\n",
        "Pikirkan lima nama, dan gunakan sebagai kunci dalam dictionary anda. Pikirkan favorit\n",
        "nomor untuk setiap orang, dan simpan masing-masing sebagai nilai dalam distionary. Cetaklah setiap nama orang dan nomor favoritnya.\n",
        "\n",
        "3. Buatlah function yang menyimpan informasi tentang mobil dalam dictionary. function tersebut harus selalu menerima nama produksi dan model.  Panggil function dengan informasi yang diperlukan dan dua pasangan, nama-nilai lainnya, seperti warna atau fitur (opsional). Fuction yang telah anda buat, harus berfungsi dengan cara memanggilnya seperto berikut:\n",
        "         \n",
        "          car = make_car('subaru', 'outback', color='blue', tow_package=True)"
      ]
    },
    {
      "cell_type": "code",
      "metadata": {
        "id": "rBXk0EH2LdDM",
        "colab": {
          "base_uri": "https://localhost:8080/"
        },
        "outputId": "9bca7cfe-ee55-4770-e71c-19b3f062e5c5"
      },
      "source": [
        "# 1\n",
        "teman = {'first_name': 'alfian', 'last_name': 'syach', 'age': 23, 'city': 'jakarta'}\n",
        "print (teman)\n",
        "\n",
        "for key, value in teman.items():\n",
        "  print ('key = {} , value = {}'.format(key, value))"
      ],
      "execution_count": null,
      "outputs": [
        {
          "output_type": "stream",
          "name": "stdout",
          "text": [
            "{'first_name': 'alfian', 'last_name': 'syach', 'age': 23, 'city': 'jakarta'}\n",
            "key = first_name , value = alfian\n",
            "key = last_name , value = syach\n",
            "key = age , value = 23\n",
            "key = city , value = jakarta\n"
          ]
        }
      ]
    },
    {
      "cell_type": "code",
      "metadata": {
        "id": "qQ7G0TnOLdDM",
        "colab": {
          "base_uri": "https://localhost:8080/"
        },
        "outputId": "00111790-755c-4eff-b10d-90ad6668228a"
      },
      "source": [
        "# 2\n",
        "nomor = {'niko': 1, 'bagas': 2, 'paris': 3, 'mohan': 4, 'bayu': 5}\n",
        "print (nomor)\n",
        "\n",
        "for key, value in nomor.items():\n",
        "  print ('nomor favorit', key, 'adalah', value)"
      ],
      "execution_count": null,
      "outputs": [
        {
          "output_type": "stream",
          "name": "stdout",
          "text": [
            "{'niko': 1, 'bagas': 2, 'paris': 3, 'mohan': 4, 'bayu': 5}\n",
            "nomor favorit niko adalah 1\n",
            "nomor favorit bagas adalah 2\n",
            "nomor favorit paris adalah 3\n",
            "nomor favorit mohan adalah 4\n",
            "nomor favorit bayu adalah 5\n"
          ]
        }
      ]
    },
    {
      "cell_type": "code",
      "metadata": {
        "id": "OjNMyIaOLdDN",
        "colab": {
          "base_uri": "https://localhost:8080/"
        },
        "outputId": "b7f4a8a2-af0c-4790-882a-5e4df2d6c125"
      },
      "source": [
        "# 3\n",
        "def make_car(production, model, color, two_package):\n",
        "  car = {'production': production,\n",
        "         'model': model,\n",
        "         'color': color,\n",
        "         'two_package': two_package}\n",
        "  return car\n",
        "\n",
        "make_car('subaru', 'outback', 'blue', True)\n"
      ],
      "execution_count": 55,
      "outputs": [
        {
          "output_type": "execute_result",
          "data": {
            "text/plain": [
              "{'production': 'subaru',\n",
              " 'model': 'outback',\n",
              " 'color': 'blue',\n",
              " 'two_package': True}"
            ]
          },
          "metadata": {},
          "execution_count": 55
        }
      ]
    }
  ]
}
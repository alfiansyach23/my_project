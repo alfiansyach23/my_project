{
 "cells": [
  {
   "attachments": {},
   "cell_type": "markdown",
   "metadata": {},
   "source": [
    "## IMPORT PACKAGES"
   ]
  },
  {
   "cell_type": "code",
   "execution_count": 1,
   "metadata": {},
   "outputs": [],
   "source": [
    "import os\n",
    "import pandas as pd\n",
    "import numpy as np\n",
    "from datetime import datetime\n",
    "import matplotlib.pyplot as plt\n",
    "import seaborn as sns\n",
    "import sqlite3\n",
    "import statistics"
   ]
  },
  {
   "cell_type": "markdown",
   "metadata": {},
   "source": []
  },
  {
   "attachments": {},
   "cell_type": "markdown",
   "metadata": {},
   "source": [
    "## LOAD DATASET"
   ]
  },
  {
   "cell_type": "code",
   "execution_count": 2,
   "metadata": {},
   "outputs": [
    {
     "data": {
      "text/plain": [
       "['data_offers.csv', 'data_orders.csv']"
      ]
     },
     "execution_count": 2,
     "metadata": {},
     "output_type": "execute_result"
    }
   ],
   "source": [
    "path = 'C:/datasets/insight for failed orders/'\n",
    "os.listdir(path)"
   ]
  },
  {
   "cell_type": "code",
   "execution_count": 3,
   "metadata": {},
   "outputs": [],
   "source": [
    "offers = pd.read_csv(path + 'data_offers.csv')\n",
    "orders = pd.read_csv(path + 'data_orders.csv')"
   ]
  },
  {
   "cell_type": "markdown",
   "metadata": {},
   "source": []
  },
  {
   "attachments": {},
   "cell_type": "markdown",
   "metadata": {},
   "source": [
    "## CONNECT TO SQLITE3"
   ]
  },
  {
   "cell_type": "code",
   "execution_count": 4,
   "metadata": {},
   "outputs": [],
   "source": [
    "conn = sqlite3.connect('data_orders.csv')"
   ]
  },
  {
   "cell_type": "code",
   "execution_count": 5,
   "metadata": {},
   "outputs": [],
   "source": [
    "conn = sqlite3.connect('data_offers.csv')"
   ]
  },
  {
   "cell_type": "code",
   "execution_count": 6,
   "metadata": {},
   "outputs": [],
   "source": [
    "cur = conn.cursor()"
   ]
  },
  {
   "cell_type": "markdown",
   "metadata": {},
   "source": []
  },
  {
   "attachments": {},
   "cell_type": "markdown",
   "metadata": {},
   "source": [
    "**BUSINESS UNDERSTANDING**"
   ]
  },
  {
   "attachments": {},
   "cell_type": "markdown",
   "metadata": {},
   "source": [
    "Gett, previously known as GetTaxi, is an Israeli-developed technology platform solely focused on corporate Ground Transportation Management (GTM). They have an application where clients can order taxis, and drivers can accept their rides (offers). At the moment, when the client clicks the Order button in the application, the matching system searches for the most relevant drivers and offers them the order. In this task, we would like to investigate some matching metrics for orders that did not completed successfully, i.e., the customer didn't end up getting a car."
   ]
  },
  {
   "attachments": {},
   "cell_type": "markdown",
   "metadata": {},
   "source": [
    "Please complete the following tasks.\n",
    "\n",
    "1. Build up distribution of orders according to reasons for failure: cancellations before and after driver assignment, and reasons for order rejection. Analyse the resulting plot. Which category has the highest number of orders?\n",
    "\n",
    "2. Plot the distribution of failed orders by hours. Is there a trend that certain hours have an abnormally high proportion of one category or another? What hours are the biggest fails? How can this be explained?\n",
    "\n",
    "3. Plot the average time to cancellation with and without driver, by the hour. If there are any outliers in the data, it would be better to remove them. Can we draw any conclusions from this plot?\n",
    "\n",
    "4. Plot the distribution of average ETA by hours. How can this plot be explained?"
   ]
  },
  {
   "cell_type": "markdown",
   "metadata": {},
   "source": []
  },
  {
   "attachments": {},
   "cell_type": "markdown",
   "metadata": {},
   "source": [
    "**DATA UNDERSTANDING**"
   ]
  },
  {
   "attachments": {},
   "cell_type": "markdown",
   "metadata": {},
   "source": [
    "We have two data sets: data_orders and data_offers, both being stored in a CSV format.\n",
    "\n",
    "The data_orders data set contains the following columns:\n",
    "\n",
    "- **order_datetime** - time of the order\n",
    "- **origin_longitude** - longitude of the order\n",
    "- **origin_latitude** - latitude of the order\n",
    "- **m_order_eta** - time before order arrival\n",
    "- **order_gk** - order number\n",
    "- **order_status_key** - status, an enumeration consisting of the following mapping:\n",
    "    - **4** - cancelled by client,\n",
    "    - **9** - cancelled by system, i.e., a reject\n",
    "- **is_driver_assigned_key** - whether a driver has been assigned\n",
    "- **cancellation_time_in_seconds** - how many seconds passed before cancellation\n",
    "\n",
    "The data_offers data set is a simple map with 2 columns:\n",
    "\n",
    "- **order_gk** - order number, associated with the same column from the orders data set\n",
    "- **offer_id** - ID of an offer"
   ]
  },
  {
   "cell_type": "markdown",
   "metadata": {},
   "source": []
  },
  {
   "cell_type": "code",
   "execution_count": 7,
   "metadata": {},
   "outputs": [
    {
     "name": "stdout",
     "output_type": "stream",
     "text": [
      "<class 'pandas.core.frame.DataFrame'>\n",
      "RangeIndex: 10716 entries, 0 to 10715\n",
      "Data columns (total 8 columns):\n",
      " #   Column                         Non-Null Count  Dtype  \n",
      "---  ------                         --------------  -----  \n",
      " 0   order_datetime                 10716 non-null  object \n",
      " 1   origin_longitude               10716 non-null  float64\n",
      " 2   origin_latitude                10716 non-null  float64\n",
      " 3   m_order_eta                    2814 non-null   float64\n",
      " 4   order_gk                       10716 non-null  int64  \n",
      " 5   order_status_key               10716 non-null  int64  \n",
      " 6   is_driver_assigned_key         10716 non-null  int64  \n",
      " 7   cancellations_time_in_seconds  7307 non-null   float64\n",
      "dtypes: float64(4), int64(3), object(1)\n",
      "memory usage: 669.9+ KB\n"
     ]
    }
   ],
   "source": [
    "orders.info()"
   ]
  },
  {
   "cell_type": "code",
   "execution_count": 8,
   "metadata": {},
   "outputs": [
    {
     "name": "stdout",
     "output_type": "stream",
     "text": [
      "<class 'pandas.core.frame.DataFrame'>\n",
      "RangeIndex: 334363 entries, 0 to 334362\n",
      "Data columns (total 2 columns):\n",
      " #   Column    Non-Null Count   Dtype\n",
      "---  ------    --------------   -----\n",
      " 0   order_gk  334363 non-null  int64\n",
      " 1   offer_id  334363 non-null  int64\n",
      "dtypes: int64(2)\n",
      "memory usage: 5.1 MB\n"
     ]
    }
   ],
   "source": [
    "offers.info()"
   ]
  },
  {
   "cell_type": "markdown",
   "metadata": {},
   "source": []
  },
  {
   "attachments": {},
   "cell_type": "markdown",
   "metadata": {},
   "source": [
    "## Data Preparation"
   ]
  },
  {
   "attachments": {},
   "cell_type": "markdown",
   "metadata": {},
   "source": [
    "### Data Cleansing"
   ]
  },
  {
   "attachments": {},
   "cell_type": "markdown",
   "metadata": {},
   "source": [
    "### Check Missing Value"
   ]
  },
  {
   "attachments": {},
   "cell_type": "markdown",
   "metadata": {},
   "source": [
    "Orders Table"
   ]
  },
  {
   "cell_type": "code",
   "execution_count": 9,
   "metadata": {},
   "outputs": [
    {
     "data": {
      "text/plain": [
       "order_datetime                      0\n",
       "origin_longitude                    0\n",
       "origin_latitude                     0\n",
       "m_order_eta                      7902\n",
       "order_gk                            0\n",
       "order_status_key                    0\n",
       "is_driver_assigned_key              0\n",
       "cancellations_time_in_seconds    3409\n",
       "dtype: int64"
      ]
     },
     "execution_count": 9,
     "metadata": {},
     "output_type": "execute_result"
    }
   ],
   "source": [
    "pd.isnull(orders).sum()"
   ]
  },
  {
   "cell_type": "code",
   "execution_count": 10,
   "metadata": {},
   "outputs": [
    {
     "data": {
      "text/plain": [
       "8604     1559.0\n",
       "8987     1387.0\n",
       "5311     1378.0\n",
       "5452     1374.0\n",
       "4655     1285.0\n",
       "          ...  \n",
       "10709       NaN\n",
       "10710       NaN\n",
       "10711       NaN\n",
       "10712       NaN\n",
       "10714       NaN\n",
       "Name: m_order_eta, Length: 10716, dtype: float64"
      ]
     },
     "execution_count": 10,
     "metadata": {},
     "output_type": "execute_result"
    }
   ],
   "source": [
    "orders['m_order_eta'].sort_values(ascending=False)"
   ]
  },
  {
   "cell_type": "code",
   "execution_count": 11,
   "metadata": {},
   "outputs": [],
   "source": [
    "orders['m_order_eta'].fillna(int(orders['m_order_eta'].mean()), inplace=True)"
   ]
  },
  {
   "cell_type": "code",
   "execution_count": 12,
   "metadata": {},
   "outputs": [
    {
     "data": {
      "text/plain": [
       "8369     4303.0\n",
       "3442     4097.0\n",
       "8473     3697.0\n",
       "6825     2680.0\n",
       "9924     2376.0\n",
       "          ...  \n",
       "10673       NaN\n",
       "10682       NaN\n",
       "10684       NaN\n",
       "10685       NaN\n",
       "10691       NaN\n",
       "Name: cancellations_time_in_seconds, Length: 10716, dtype: float64"
      ]
     },
     "execution_count": 12,
     "metadata": {},
     "output_type": "execute_result"
    }
   ],
   "source": [
    "orders['cancellations_time_in_seconds'].sort_values(ascending=False)"
   ]
  },
  {
   "cell_type": "code",
   "execution_count": 13,
   "metadata": {},
   "outputs": [],
   "source": [
    "orders['cancellations_time_in_seconds'].fillna(int(orders['cancellations_time_in_seconds'].mean()), inplace=True)"
   ]
  },
  {
   "cell_type": "code",
   "execution_count": 14,
   "metadata": {},
   "outputs": [
    {
     "data": {
      "text/plain": [
       "order_datetime                   0\n",
       "origin_longitude                 0\n",
       "origin_latitude                  0\n",
       "m_order_eta                      0\n",
       "order_gk                         0\n",
       "order_status_key                 0\n",
       "is_driver_assigned_key           0\n",
       "cancellations_time_in_seconds    0\n",
       "dtype: int64"
      ]
     },
     "execution_count": 14,
     "metadata": {},
     "output_type": "execute_result"
    }
   ],
   "source": [
    "pd.isnull(orders).sum()"
   ]
  },
  {
   "cell_type": "code",
   "execution_count": 15,
   "metadata": {},
   "outputs": [
    {
     "name": "stdout",
     "output_type": "stream",
     "text": [
      "<class 'pandas.core.frame.DataFrame'>\n",
      "RangeIndex: 10716 entries, 0 to 10715\n",
      "Data columns (total 8 columns):\n",
      " #   Column                         Non-Null Count  Dtype  \n",
      "---  ------                         --------------  -----  \n",
      " 0   order_datetime                 10716 non-null  object \n",
      " 1   origin_longitude               10716 non-null  float64\n",
      " 2   origin_latitude                10716 non-null  float64\n",
      " 3   m_order_eta                    10716 non-null  float64\n",
      " 4   order_gk                       10716 non-null  int64  \n",
      " 5   order_status_key               10716 non-null  int64  \n",
      " 6   is_driver_assigned_key         10716 non-null  int64  \n",
      " 7   cancellations_time_in_seconds  10716 non-null  float64\n",
      "dtypes: float64(4), int64(3), object(1)\n",
      "memory usage: 669.9+ KB\n"
     ]
    }
   ],
   "source": [
    "orders.info()"
   ]
  },
  {
   "attachments": {},
   "cell_type": "markdown",
   "metadata": {},
   "source": [
    "Offers Table"
   ]
  },
  {
   "cell_type": "code",
   "execution_count": 16,
   "metadata": {},
   "outputs": [
    {
     "data": {
      "text/plain": [
       "order_gk    0\n",
       "offer_id    0\n",
       "dtype: int64"
      ]
     },
     "execution_count": 16,
     "metadata": {},
     "output_type": "execute_result"
    }
   ],
   "source": [
    "pd.isnull(offers).sum()"
   ]
  },
  {
   "cell_type": "markdown",
   "metadata": {},
   "source": []
  },
  {
   "attachments": {},
   "cell_type": "markdown",
   "metadata": {},
   "source": [
    "## Check Duplicate Data"
   ]
  },
  {
   "attachments": {},
   "cell_type": "markdown",
   "metadata": {},
   "source": [
    "Orders Table"
   ]
  },
  {
   "cell_type": "code",
   "execution_count": 17,
   "metadata": {},
   "outputs": [
    {
     "data": {
      "text/html": [
       "<div>\n",
       "<style scoped>\n",
       "    .dataframe tbody tr th:only-of-type {\n",
       "        vertical-align: middle;\n",
       "    }\n",
       "\n",
       "    .dataframe tbody tr th {\n",
       "        vertical-align: top;\n",
       "    }\n",
       "\n",
       "    .dataframe thead th {\n",
       "        text-align: right;\n",
       "    }\n",
       "</style>\n",
       "<table border=\"1\" class=\"dataframe\">\n",
       "  <thead>\n",
       "    <tr style=\"text-align: right;\">\n",
       "      <th></th>\n",
       "      <th>order_datetime</th>\n",
       "      <th>origin_longitude</th>\n",
       "      <th>origin_latitude</th>\n",
       "      <th>m_order_eta</th>\n",
       "      <th>order_gk</th>\n",
       "      <th>order_status_key</th>\n",
       "      <th>is_driver_assigned_key</th>\n",
       "      <th>cancellations_time_in_seconds</th>\n",
       "    </tr>\n",
       "  </thead>\n",
       "  <tbody>\n",
       "  </tbody>\n",
       "</table>\n",
       "</div>"
      ],
      "text/plain": [
       "Empty DataFrame\n",
       "Columns: [order_datetime, origin_longitude, origin_latitude, m_order_eta, order_gk, order_status_key, is_driver_assigned_key, cancellations_time_in_seconds]\n",
       "Index: []"
      ]
     },
     "execution_count": 17,
     "metadata": {},
     "output_type": "execute_result"
    }
   ],
   "source": [
    "orders[orders.duplicated(subset=['order_gk'], keep=False)]"
   ]
  },
  {
   "attachments": {},
   "cell_type": "markdown",
   "metadata": {},
   "source": [
    "Offers Table"
   ]
  },
  {
   "cell_type": "code",
   "execution_count": 18,
   "metadata": {},
   "outputs": [
    {
     "data": {
      "text/html": [
       "<div>\n",
       "<style scoped>\n",
       "    .dataframe tbody tr th:only-of-type {\n",
       "        vertical-align: middle;\n",
       "    }\n",
       "\n",
       "    .dataframe tbody tr th {\n",
       "        vertical-align: top;\n",
       "    }\n",
       "\n",
       "    .dataframe thead th {\n",
       "        text-align: right;\n",
       "    }\n",
       "</style>\n",
       "<table border=\"1\" class=\"dataframe\">\n",
       "  <thead>\n",
       "    <tr style=\"text-align: right;\">\n",
       "      <th></th>\n",
       "      <th>order_gk</th>\n",
       "      <th>offer_id</th>\n",
       "    </tr>\n",
       "  </thead>\n",
       "  <tbody>\n",
       "    <tr>\n",
       "      <th>0</th>\n",
       "      <td>3000579625629</td>\n",
       "      <td>300050936206</td>\n",
       "    </tr>\n",
       "    <tr>\n",
       "      <th>1</th>\n",
       "      <td>3000627306450</td>\n",
       "      <td>300052064651</td>\n",
       "    </tr>\n",
       "    <tr>\n",
       "      <th>2</th>\n",
       "      <td>3000632920686</td>\n",
       "      <td>300052408812</td>\n",
       "    </tr>\n",
       "    <tr>\n",
       "      <th>3</th>\n",
       "      <td>3000632771725</td>\n",
       "      <td>300052393030</td>\n",
       "    </tr>\n",
       "    <tr>\n",
       "      <th>4</th>\n",
       "      <td>3000583467642</td>\n",
       "      <td>300051001196</td>\n",
       "    </tr>\n",
       "    <tr>\n",
       "      <th>...</th>\n",
       "      <td>...</td>\n",
       "      <td>...</td>\n",
       "    </tr>\n",
       "    <tr>\n",
       "      <th>334357</th>\n",
       "      <td>3000617576339</td>\n",
       "      <td>300051728177</td>\n",
       "    </tr>\n",
       "    <tr>\n",
       "      <th>334358</th>\n",
       "      <td>3000552921666</td>\n",
       "      <td>300050611632</td>\n",
       "    </tr>\n",
       "    <tr>\n",
       "      <th>334359</th>\n",
       "      <td>3000593796526</td>\n",
       "      <td>300051443024</td>\n",
       "    </tr>\n",
       "    <tr>\n",
       "      <th>334360</th>\n",
       "      <td>3000590955748</td>\n",
       "      <td>300051340498</td>\n",
       "    </tr>\n",
       "    <tr>\n",
       "      <th>334362</th>\n",
       "      <td>3000630405861</td>\n",
       "      <td>300052291934</td>\n",
       "    </tr>\n",
       "  </tbody>\n",
       "</table>\n",
       "<p>308589 rows × 2 columns</p>\n",
       "</div>"
      ],
      "text/plain": [
       "             order_gk      offer_id\n",
       "0       3000579625629  300050936206\n",
       "1       3000627306450  300052064651\n",
       "2       3000632920686  300052408812\n",
       "3       3000632771725  300052393030\n",
       "4       3000583467642  300051001196\n",
       "...               ...           ...\n",
       "334357  3000617576339  300051728177\n",
       "334358  3000552921666  300050611632\n",
       "334359  3000593796526  300051443024\n",
       "334360  3000590955748  300051340498\n",
       "334362  3000630405861  300052291934\n",
       "\n",
       "[308589 rows x 2 columns]"
      ]
     },
     "execution_count": 18,
     "metadata": {},
     "output_type": "execute_result"
    }
   ],
   "source": [
    "offers[offers.duplicated(subset=['order_gk'], keep=False)]"
   ]
  },
  {
   "cell_type": "code",
   "execution_count": 19,
   "metadata": {},
   "outputs": [],
   "source": [
    "offers = offers.drop_duplicates(subset=['order_gk'])"
   ]
  },
  {
   "cell_type": "code",
   "execution_count": 20,
   "metadata": {},
   "outputs": [
    {
     "data": {
      "text/html": [
       "<div>\n",
       "<style scoped>\n",
       "    .dataframe tbody tr th:only-of-type {\n",
       "        vertical-align: middle;\n",
       "    }\n",
       "\n",
       "    .dataframe tbody tr th {\n",
       "        vertical-align: top;\n",
       "    }\n",
       "\n",
       "    .dataframe thead th {\n",
       "        text-align: right;\n",
       "    }\n",
       "</style>\n",
       "<table border=\"1\" class=\"dataframe\">\n",
       "  <thead>\n",
       "    <tr style=\"text-align: right;\">\n",
       "      <th></th>\n",
       "      <th>order_gk</th>\n",
       "      <th>offer_id</th>\n",
       "    </tr>\n",
       "  </thead>\n",
       "  <tbody>\n",
       "  </tbody>\n",
       "</table>\n",
       "</div>"
      ],
      "text/plain": [
       "Empty DataFrame\n",
       "Columns: [order_gk, offer_id]\n",
       "Index: []"
      ]
     },
     "execution_count": 20,
     "metadata": {},
     "output_type": "execute_result"
    }
   ],
   "source": [
    "offers[offers.duplicated(subset=['order_gk'], keep=False)]"
   ]
  },
  {
   "cell_type": "code",
   "execution_count": 21,
   "metadata": {},
   "outputs": [
    {
     "name": "stdout",
     "output_type": "stream",
     "text": [
      "<class 'pandas.core.frame.DataFrame'>\n",
      "Int64Index: 97967 entries, 0 to 334361\n",
      "Data columns (total 2 columns):\n",
      " #   Column    Non-Null Count  Dtype\n",
      "---  ------    --------------  -----\n",
      " 0   order_gk  97967 non-null  int64\n",
      " 1   offer_id  97967 non-null  int64\n",
      "dtypes: int64(2)\n",
      "memory usage: 2.2 MB\n"
     ]
    }
   ],
   "source": [
    "offers.info()"
   ]
  },
  {
   "cell_type": "markdown",
   "metadata": {},
   "source": []
  },
  {
   "attachments": {},
   "cell_type": "markdown",
   "metadata": {},
   "source": [
    "## Data Manipulation"
   ]
  },
  {
   "attachments": {},
   "cell_type": "markdown",
   "metadata": {},
   "source": [
    "## Checking and Changing Data Type"
   ]
  },
  {
   "attachments": {},
   "cell_type": "markdown",
   "metadata": {},
   "source": [
    "Orders Table"
   ]
  },
  {
   "cell_type": "code",
   "execution_count": 22,
   "metadata": {},
   "outputs": [
    {
     "data": {
      "text/plain": [
       "order_datetime                    object\n",
       "origin_longitude                 float64\n",
       "origin_latitude                  float64\n",
       "m_order_eta                      float64\n",
       "order_gk                           int64\n",
       "order_status_key                   int64\n",
       "is_driver_assigned_key             int64\n",
       "cancellations_time_in_seconds    float64\n",
       "dtype: object"
      ]
     },
     "execution_count": 22,
     "metadata": {},
     "output_type": "execute_result"
    }
   ],
   "source": [
    "orders.dtypes"
   ]
  },
  {
   "cell_type": "code",
   "execution_count": 23,
   "metadata": {},
   "outputs": [],
   "source": [
    "orders['order_datetime'] = pd.to_datetime(orders['order_datetime'])"
   ]
  },
  {
   "cell_type": "code",
   "execution_count": 24,
   "metadata": {},
   "outputs": [],
   "source": [
    "orders['m_order_eta'] = orders['m_order_eta'].astype(int)"
   ]
  },
  {
   "cell_type": "code",
   "execution_count": 25,
   "metadata": {},
   "outputs": [],
   "source": [
    "orders['order_gk'] = orders['order_gk'].astype(str)"
   ]
  },
  {
   "cell_type": "code",
   "execution_count": 26,
   "metadata": {},
   "outputs": [],
   "source": [
    "orders['cancellations_time_in_seconds'] = orders['cancellations_time_in_seconds'].astype(int)"
   ]
  },
  {
   "cell_type": "code",
   "execution_count": 27,
   "metadata": {},
   "outputs": [
    {
     "data": {
      "text/plain": [
       "order_datetime                   datetime64[ns]\n",
       "origin_longitude                        float64\n",
       "origin_latitude                         float64\n",
       "m_order_eta                               int32\n",
       "order_gk                                 object\n",
       "order_status_key                          int64\n",
       "is_driver_assigned_key                    int64\n",
       "cancellations_time_in_seconds             int32\n",
       "dtype: object"
      ]
     },
     "execution_count": 27,
     "metadata": {},
     "output_type": "execute_result"
    }
   ],
   "source": [
    "orders.dtypes"
   ]
  },
  {
   "attachments": {},
   "cell_type": "markdown",
   "metadata": {},
   "source": [
    "Offers Table"
   ]
  },
  {
   "cell_type": "code",
   "execution_count": 28,
   "metadata": {},
   "outputs": [
    {
     "data": {
      "text/plain": [
       "order_gk    int64\n",
       "offer_id    int64\n",
       "dtype: object"
      ]
     },
     "execution_count": 28,
     "metadata": {},
     "output_type": "execute_result"
    }
   ],
   "source": [
    "offers.dtypes"
   ]
  },
  {
   "cell_type": "code",
   "execution_count": 29,
   "metadata": {},
   "outputs": [],
   "source": [
    "offers['order_gk'] = offers['order_gk'].astype(str)"
   ]
  },
  {
   "cell_type": "code",
   "execution_count": 30,
   "metadata": {},
   "outputs": [],
   "source": [
    "offers['offer_id'] = offers['offer_id'].astype(str)"
   ]
  },
  {
   "cell_type": "code",
   "execution_count": 31,
   "metadata": {},
   "outputs": [
    {
     "data": {
      "text/plain": [
       "order_gk    object\n",
       "offer_id    object\n",
       "dtype: object"
      ]
     },
     "execution_count": 31,
     "metadata": {},
     "output_type": "execute_result"
    }
   ],
   "source": [
    "offers.dtypes"
   ]
  },
  {
   "cell_type": "markdown",
   "metadata": {},
   "source": []
  },
  {
   "attachments": {},
   "cell_type": "markdown",
   "metadata": {},
   "source": [
    "## Renaming Columns"
   ]
  },
  {
   "attachments": {},
   "cell_type": "markdown",
   "metadata": {},
   "source": [
    "Orders Table"
   ]
  },
  {
   "cell_type": "code",
   "execution_count": 32,
   "metadata": {},
   "outputs": [],
   "source": [
    "orders = orders.rename(columns={'m_order_eta': 'order_eta', 'order_gk': 'order_id', 'order_status_key': 'order_status',\n",
    "                                'is_driver_assigned_key': 'driver_assigned', 'cancellations_time_in_seconds': 'cancellations',\n",
    "                                'origin_longitude': 'longitude', 'origin_latitude': 'latitude'})"
   ]
  },
  {
   "cell_type": "code",
   "execution_count": 33,
   "metadata": {},
   "outputs": [
    {
     "data": {
      "text/html": [
       "<div>\n",
       "<style scoped>\n",
       "    .dataframe tbody tr th:only-of-type {\n",
       "        vertical-align: middle;\n",
       "    }\n",
       "\n",
       "    .dataframe tbody tr th {\n",
       "        vertical-align: top;\n",
       "    }\n",
       "\n",
       "    .dataframe thead th {\n",
       "        text-align: right;\n",
       "    }\n",
       "</style>\n",
       "<table border=\"1\" class=\"dataframe\">\n",
       "  <thead>\n",
       "    <tr style=\"text-align: right;\">\n",
       "      <th></th>\n",
       "      <th>order_datetime</th>\n",
       "      <th>longitude</th>\n",
       "      <th>latitude</th>\n",
       "      <th>order_eta</th>\n",
       "      <th>order_id</th>\n",
       "      <th>order_status</th>\n",
       "      <th>driver_assigned</th>\n",
       "      <th>cancellations</th>\n",
       "    </tr>\n",
       "  </thead>\n",
       "  <tbody>\n",
       "    <tr>\n",
       "      <th>0</th>\n",
       "      <td>2023-05-01 18:08:07</td>\n",
       "      <td>-0.978916</td>\n",
       "      <td>51.456173</td>\n",
       "      <td>60</td>\n",
       "      <td>3000583041974</td>\n",
       "      <td>4</td>\n",
       "      <td>1</td>\n",
       "      <td>198</td>\n",
       "    </tr>\n",
       "    <tr>\n",
       "      <th>1</th>\n",
       "      <td>2023-05-01 20:57:32</td>\n",
       "      <td>-0.950385</td>\n",
       "      <td>51.456843</td>\n",
       "      <td>441</td>\n",
       "      <td>3000583116437</td>\n",
       "      <td>4</td>\n",
       "      <td>0</td>\n",
       "      <td>128</td>\n",
       "    </tr>\n",
       "    <tr>\n",
       "      <th>2</th>\n",
       "      <td>2023-05-01 12:07:50</td>\n",
       "      <td>-0.969520</td>\n",
       "      <td>51.455544</td>\n",
       "      <td>477</td>\n",
       "      <td>3000582891479</td>\n",
       "      <td>4</td>\n",
       "      <td>1</td>\n",
       "      <td>46</td>\n",
       "    </tr>\n",
       "    <tr>\n",
       "      <th>3</th>\n",
       "      <td>2023-05-01 13:50:20</td>\n",
       "      <td>-1.054671</td>\n",
       "      <td>51.460544</td>\n",
       "      <td>658</td>\n",
       "      <td>3000582941169</td>\n",
       "      <td>4</td>\n",
       "      <td>1</td>\n",
       "      <td>62</td>\n",
       "    </tr>\n",
       "    <tr>\n",
       "      <th>4</th>\n",
       "      <td>2023-05-01 21:24:45</td>\n",
       "      <td>-0.967605</td>\n",
       "      <td>51.458236</td>\n",
       "      <td>441</td>\n",
       "      <td>3000583140877</td>\n",
       "      <td>9</td>\n",
       "      <td>0</td>\n",
       "      <td>157</td>\n",
       "    </tr>\n",
       "  </tbody>\n",
       "</table>\n",
       "</div>"
      ],
      "text/plain": [
       "       order_datetime  longitude   latitude  order_eta       order_id  \\\n",
       "0 2023-05-01 18:08:07  -0.978916  51.456173         60  3000583041974   \n",
       "1 2023-05-01 20:57:32  -0.950385  51.456843        441  3000583116437   \n",
       "2 2023-05-01 12:07:50  -0.969520  51.455544        477  3000582891479   \n",
       "3 2023-05-01 13:50:20  -1.054671  51.460544        658  3000582941169   \n",
       "4 2023-05-01 21:24:45  -0.967605  51.458236        441  3000583140877   \n",
       "\n",
       "   order_status  driver_assigned  cancellations  \n",
       "0             4                1            198  \n",
       "1             4                0            128  \n",
       "2             4                1             46  \n",
       "3             4                1             62  \n",
       "4             9                0            157  "
      ]
     },
     "execution_count": 33,
     "metadata": {},
     "output_type": "execute_result"
    }
   ],
   "source": [
    "orders.head()"
   ]
  },
  {
   "attachments": {},
   "cell_type": "markdown",
   "metadata": {},
   "source": [
    "Offers Table"
   ]
  },
  {
   "cell_type": "code",
   "execution_count": 34,
   "metadata": {},
   "outputs": [],
   "source": [
    "offers = offers.rename(columns={'order_gk': 'order_id'})"
   ]
  },
  {
   "cell_type": "code",
   "execution_count": 35,
   "metadata": {},
   "outputs": [
    {
     "data": {
      "text/html": [
       "<div>\n",
       "<style scoped>\n",
       "    .dataframe tbody tr th:only-of-type {\n",
       "        vertical-align: middle;\n",
       "    }\n",
       "\n",
       "    .dataframe tbody tr th {\n",
       "        vertical-align: top;\n",
       "    }\n",
       "\n",
       "    .dataframe thead th {\n",
       "        text-align: right;\n",
       "    }\n",
       "</style>\n",
       "<table border=\"1\" class=\"dataframe\">\n",
       "  <thead>\n",
       "    <tr style=\"text-align: right;\">\n",
       "      <th></th>\n",
       "      <th>order_id</th>\n",
       "      <th>offer_id</th>\n",
       "    </tr>\n",
       "  </thead>\n",
       "  <tbody>\n",
       "    <tr>\n",
       "      <th>0</th>\n",
       "      <td>3000579625629</td>\n",
       "      <td>300050936206</td>\n",
       "    </tr>\n",
       "    <tr>\n",
       "      <th>1</th>\n",
       "      <td>3000627306450</td>\n",
       "      <td>300052064651</td>\n",
       "    </tr>\n",
       "    <tr>\n",
       "      <th>2</th>\n",
       "      <td>3000632920686</td>\n",
       "      <td>300052408812</td>\n",
       "    </tr>\n",
       "    <tr>\n",
       "      <th>3</th>\n",
       "      <td>3000632771725</td>\n",
       "      <td>300052393030</td>\n",
       "    </tr>\n",
       "    <tr>\n",
       "      <th>4</th>\n",
       "      <td>3000583467642</td>\n",
       "      <td>300051001196</td>\n",
       "    </tr>\n",
       "  </tbody>\n",
       "</table>\n",
       "</div>"
      ],
      "text/plain": [
       "        order_id      offer_id\n",
       "0  3000579625629  300050936206\n",
       "1  3000627306450  300052064651\n",
       "2  3000632920686  300052408812\n",
       "3  3000632771725  300052393030\n",
       "4  3000583467642  300051001196"
      ]
     },
     "execution_count": 35,
     "metadata": {},
     "output_type": "execute_result"
    }
   ],
   "source": [
    "offers.head()"
   ]
  },
  {
   "cell_type": "markdown",
   "metadata": {},
   "source": []
  },
  {
   "attachments": {},
   "cell_type": "markdown",
   "metadata": {},
   "source": [
    "## Handling Outliers"
   ]
  },
  {
   "attachments": {},
   "cell_type": "markdown",
   "metadata": {},
   "source": [
    "Orders Table"
   ]
  },
  {
   "cell_type": "code",
   "execution_count": 36,
   "metadata": {},
   "outputs": [
    {
     "data": {
      "text/plain": [
       "count    10716.000000\n",
       "mean       441.109089\n",
       "std        147.567669\n",
       "min         60.000000\n",
       "25%        441.000000\n",
       "50%        441.000000\n",
       "75%        441.000000\n",
       "max       1559.000000\n",
       "Name: order_eta, dtype: float64"
      ]
     },
     "execution_count": 36,
     "metadata": {},
     "output_type": "execute_result"
    }
   ],
   "source": [
    "orders['order_eta'].describe()"
   ]
  },
  {
   "cell_type": "code",
   "execution_count": 37,
   "metadata": {},
   "outputs": [
    {
     "data": {
      "text/plain": [
       "count    10716.000000\n",
       "mean       157.608249\n",
       "std        176.186298\n",
       "min          3.000000\n",
       "25%         67.000000\n",
       "50%        157.000000\n",
       "75%        157.000000\n",
       "max       4303.000000\n",
       "Name: cancellations, dtype: float64"
      ]
     },
     "execution_count": 37,
     "metadata": {},
     "output_type": "execute_result"
    }
   ],
   "source": [
    "orders['cancellations'].describe()"
   ]
  },
  {
   "cell_type": "code",
   "execution_count": 38,
   "metadata": {},
   "outputs": [
    {
     "data": {
      "text/plain": [
       "Text(0.5, 0, 'Table Orders')"
      ]
     },
     "execution_count": 38,
     "metadata": {},
     "output_type": "execute_result"
    },
    {
     "data": {
      "image/png": "[encoded data removed]",
      "text/plain": [
       "<Figure size 640x480 with 1 Axes>"
      ]
     },
     "metadata": {},
     "output_type": "display_data"
    }
   ],
   "source": [
    "plt.boxplot(orders['cancellations'], vert=False)\n",
    "plt.title(\"Detecting outliers using Boxplot\")\n",
    "plt.xlabel('Table Orders')"
   ]
  },
  {
   "cell_type": "code",
   "execution_count": 39,
   "metadata": {},
   "outputs": [
    {
     "name": "stdout",
     "output_type": "stream",
     "text": [
      "Q1 value in cancellations column is: 67.0\n",
      "Q3 value in cancellations column is: 157.0\n",
      "IQR value in cancellations column is: 90.0\n",
      "Lower value in cancellations column is: -68.0\n",
      "Upper value in cancellations column is: 292.0\n",
      "Outliers from IQR method:  [293, 293, 293, 294, 295, 296, 296, 296, 296, 297, 297, 297, 298, 300, 300, 300, 301, 301, 301, 302, 302, 302, 303, 304, 304, 305, 306, 306, 306, 307, 308, 308, 308, 308, 310, 310, 310, 310, 310, 311, 311, 311, 311, 311, 311, 312, 312, 313, 313, 313, 314, 314, 314, 315, 315, 316, 317, 317, 317, 318, 319, 319, 319, 319, 319, 320, 320, 321, 321, 321, 321, 322, 323, 323, 324, 324, 324, 325, 325, 325, 325, 325, 325, 326, 326, 327, 327, 328, 328, 328, 328, 328, 329, 329, 329, 329, 331, 332, 333, 333, 333, 334, 335, 335, 336, 337, 339, 339, 339, 339, 339, 340, 340, 340, 340, 340, 341, 341, 341, 342, 343, 343, 343, 343, 344, 345, 345, 346, 346, 347, 347, 348, 348, 348, 349, 349, 349, 349, 349, 349, 350, 350, 350, 350, 350, 351, 351, 351, 351, 352, 352, 353, 355, 355, 355, 355, 355, 356, 357, 357, 358, 358, 359, 359, 361, 361, 361, 363, 363, 363, 364, 364, 364, 365, 365, 366, 366, 368, 368, 368, 368, 368, 369, 369, 369, 370, 370, 370, 370, 370, 371, 371, 371, 371, 371, 371, 374, 374, 374, 376, 376, 376, 377, 378, 378, 378, 378, 378, 380, 380, 380, 381, 383, 384, 384, 385, 385, 385, 385, 386, 386, 387, 387, 387, 388, 388, 390, 390, 391, 391, 392, 393, 393, 393, 393, 394, 394, 395, 395, 396, 396, 396, 398, 399, 400, 401, 401, 401, 404, 405, 405, 406, 406, 407, 407, 408, 408, 409, 409, 410, 410, 410, 411, 411, 411, 411, 412, 413, 413, 413, 414, 414, 415, 415, 415, 415, 416, 418, 419, 419, 420, 420, 421, 422, 422, 422, 424, 424, 425, 426, 427, 429, 429, 429, 430, 430, 431, 431, 432, 433, 434, 434, 434, 434, 435, 435, 437, 437, 438, 439, 439, 441, 442, 443, 443, 444, 445, 445, 445, 446, 446, 446, 446, 447, 448, 449, 450, 451, 452, 453, 453, 453, 453, 453, 453, 454, 454, 454, 456, 456, 456, 457, 457, 458, 458, 458, 459, 460, 460, 461, 462, 462, 463, 463, 463, 464, 465, 466, 467, 468, 468, 470, 471, 472, 472, 472, 473, 474, 475, 475, 476, 476, 477, 477, 479, 479, 480, 481, 481, 483, 484, 485, 486, 487, 487, 487, 488, 489, 490, 490, 490, 491, 492, 492, 492, 493, 493, 494, 494, 495, 495, 495, 497, 497, 497, 497, 498, 498, 499, 499, 500, 501, 501, 501, 501, 501, 502, 503, 503, 504, 506, 507, 508, 508, 511, 511, 513, 513, 514, 516, 516, 516, 517, 517, 518, 518, 519, 519, 519, 520, 521, 522, 523, 523, 524, 524, 524, 524, 526, 526, 527, 528, 528, 528, 531, 531, 532, 532, 535, 535, 536, 536, 537, 538, 538, 538, 540, 541, 541, 541, 541, 543, 543, 543, 545, 546, 546, 547, 547, 548, 548, 548, 553, 553, 554, 555, 557, 557, 557, 559, 562, 562, 564, 564, 565, 565, 567, 567, 569, 570, 570, 570, 571, 571, 572, 574, 575, 575, 575, 576, 576, 577, 577, 578, 579, 579, 580, 581, 581, 581, 581, 584, 586, 587, 589, 591, 592, 592, 593, 595, 596, 596, 596, 597, 597, 598, 598, 600, 601, 603, 607, 608, 608, 611, 612, 613, 614, 616, 617, 617, 618, 618, 619, 620, 620, 620, 622, 623, 624, 624, 625, 625, 625, 625, 626, 626, 628, 628, 630, 631, 631, 631, 633, 633, 634, 634, 634, 636, 637, 638, 639, 640, 640, 640, 640, 641, 642, 643, 646, 647, 649, 649, 652, 652, 655, 659, 661, 663, 664, 665, 665, 666, 667, 672, 673, 675, 679, 680, 681, 681, 684, 685, 685, 686, 689, 690, 691, 691, 692, 693, 693, 693, 694, 697, 699, 699, 700, 702, 707, 707, 707, 707, 707, 712, 714, 716, 717, 717, 717, 721, 722, 722, 722, 723, 724, 725, 726, 727, 729, 729, 734, 735, 735, 735, 737, 737, 741, 741, 741, 742, 743, 746, 747, 750, 753, 754, 755, 756, 757, 757, 761, 762, 762, 763, 767, 770, 772, 772, 775, 775, 776, 776, 777, 778, 778, 779, 782, 782, 784, 786, 786, 790, 791, 793, 793, 796, 798, 800, 800, 802, 802, 805, 806, 808, 809, 810, 816, 822, 825, 830, 831, 832, 833, 833, 834, 836, 838, 841, 847, 848, 848, 851, 856, 862, 862, 863, 865, 883, 884, 885, 894, 894, 897, 902, 907, 909, 914, 920, 920, 929, 930, 930, 932, 941, 941, 944, 946, 956, 957, 961, 962, 967, 970, 971, 972, 973, 973, 974, 976, 979, 985, 985, 986, 988, 994, 996, 997, 999, 1001, 1002, 1002, 1009, 1017, 1028, 1035, 1049, 1063, 1070, 1072, 1075, 1075, 1079, 1091, 1093, 1103, 1112, 1116, 1116, 1126, 1128, 1135, 1139, 1142, 1146, 1146, 1151, 1157, 1166, 1179, 1183, 1186, 1190, 1205, 1206, 1210, 1212, 1212, 1259, 1281, 1308, 1310, 1311, 1341, 1344, 1346, 1346, 1442, 1451, 1458, 1464, 1476, 1526, 1536, 1536, 1614, 1650, 1710, 1744, 1769, 1774, 1785, 1873, 1885, 2155, 2190, 2376, 2680, 3697, 4097, 4303]\n"
     ]
    }
   ],
   "source": [
    "def detect_outliers(data):\n",
    "    outliers = []\n",
    "    data = sorted(data)\n",
    "    q1 = np.percentile(data, 25)\n",
    "    q3 = np.percentile(data, 75)\n",
    "    IQR = q3 - q1\n",
    "    lower = q1 - (1.5 * IQR)\n",
    "    upper = q3 + (1.5 * IQR)\n",
    "\n",
    "    print('Q1 value in cancellations column is:', q1)\n",
    "    print('Q3 value in cancellations column is:', q3)\n",
    "    print('IQR value in cancellations column is:', IQR)\n",
    "    print('Lower value in cancellations column is:', lower)\n",
    "    print('Upper value in cancellations column is:', upper)\n",
    "\n",
    "    for i in data: \n",
    "        if (i<lower or i>upper):\n",
    "            outliers.append(i)\n",
    "    return outliers\n",
    "outliers = detect_outliers(orders['cancellations'])\n",
    "print(\"Outliers from IQR method: \", outliers)"
   ]
  },
  {
   "cell_type": "code",
   "execution_count": 40,
   "metadata": {},
   "outputs": [],
   "source": [
    "handle_outlier = []\n",
    "for y in orders['cancellations']:\n",
    "    handle = y in outliers\n",
    "    if handle is True:\n",
    "        y=statistics.median(orders['cancellations'])\n",
    "    else:\n",
    "        y=y\n",
    "    handle_outlier.append(y)\n",
    "orders['cancellations'] = handle_outlier"
   ]
  },
  {
   "cell_type": "code",
   "execution_count": 41,
   "metadata": {},
   "outputs": [
    {
     "data": {
      "text/plain": [
       "Text(0.5, 0, 'Table Orders')"
      ]
     },
     "execution_count": 41,
     "metadata": {},
     "output_type": "execute_result"
    },
    {
     "data": {
      "image/png": "[encoded data removed]",
      "text/plain": [
       "<Figure size 640x480 with 1 Axes>"
      ]
     },
     "metadata": {},
     "output_type": "display_data"
    }
   ],
   "source": [
    "plt.boxplot(orders['cancellations'], vert=False)\n",
    "plt.title(\"Detecting outliers using Boxplot\")\n",
    "plt.xlabel('Table Orders')"
   ]
  },
  {
   "cell_type": "code",
   "execution_count": 42,
   "metadata": {},
   "outputs": [
    {
     "data": {
      "text/plain": [
       "count    10716.000000\n",
       "mean       122.625233\n",
       "std         62.715080\n",
       "min          3.000000\n",
       "25%         67.000000\n",
       "50%        157.000000\n",
       "75%        157.000000\n",
       "max        292.000000\n",
       "Name: cancellations, dtype: float64"
      ]
     },
     "execution_count": 42,
     "metadata": {},
     "output_type": "execute_result"
    }
   ],
   "source": [
    "orders['cancellations'].describe()"
   ]
  },
  {
   "cell_type": "markdown",
   "metadata": {},
   "source": []
  },
  {
   "attachments": {},
   "cell_type": "markdown",
   "metadata": {},
   "source": [
    "## Save Data Cleansing Results using Python to SQLite"
   ]
  },
  {
   "cell_type": "code",
   "execution_count": 43,
   "metadata": {},
   "outputs": [
    {
     "data": {
      "text/plain": [
       "10716"
      ]
     },
     "execution_count": 43,
     "metadata": {},
     "output_type": "execute_result"
    }
   ],
   "source": [
    "orders.to_sql(name='orders', con=conn, if_exists='replace', index=False)"
   ]
  },
  {
   "cell_type": "code",
   "execution_count": 44,
   "metadata": {},
   "outputs": [
    {
     "data": {
      "text/html": [
       "<div>\n",
       "<style scoped>\n",
       "    .dataframe tbody tr th:only-of-type {\n",
       "        vertical-align: middle;\n",
       "    }\n",
       "\n",
       "    .dataframe tbody tr th {\n",
       "        vertical-align: top;\n",
       "    }\n",
       "\n",
       "    .dataframe thead th {\n",
       "        text-align: right;\n",
       "    }\n",
       "</style>\n",
       "<table border=\"1\" class=\"dataframe\">\n",
       "  <thead>\n",
       "    <tr style=\"text-align: right;\">\n",
       "      <th></th>\n",
       "      <th>order_datetime</th>\n",
       "      <th>longitude</th>\n",
       "      <th>latitude</th>\n",
       "      <th>order_eta</th>\n",
       "      <th>order_id</th>\n",
       "      <th>order_status</th>\n",
       "      <th>driver_assigned</th>\n",
       "      <th>cancellations</th>\n",
       "    </tr>\n",
       "  </thead>\n",
       "  <tbody>\n",
       "  </tbody>\n",
       "</table>\n",
       "</div>"
      ],
      "text/plain": [
       "Empty DataFrame\n",
       "Columns: [order_datetime, longitude, latitude, order_eta, order_id, order_status, driver_assigned, cancellations]\n",
       "Index: []"
      ]
     },
     "execution_count": 44,
     "metadata": {},
     "output_type": "execute_result"
    }
   ],
   "source": [
    "pd.read_sql_query(\"\"\"\n",
    "                    SELECT *\n",
    "                    FROM orders\n",
    "                    WHERE order_id IS NULL\n",
    "                \"\"\", conn)"
   ]
  },
  {
   "cell_type": "markdown",
   "metadata": {},
   "source": []
  },
  {
   "cell_type": "code",
   "execution_count": 45,
   "metadata": {},
   "outputs": [
    {
     "data": {
      "text/plain": [
       "97967"
      ]
     },
     "execution_count": 45,
     "metadata": {},
     "output_type": "execute_result"
    }
   ],
   "source": [
    "offers.to_sql(name='offers', con=conn, if_exists='replace', index=False)"
   ]
  },
  {
   "cell_type": "code",
   "execution_count": 46,
   "metadata": {},
   "outputs": [
    {
     "data": {
      "text/html": [
       "<div>\n",
       "<style scoped>\n",
       "    .dataframe tbody tr th:only-of-type {\n",
       "        vertical-align: middle;\n",
       "    }\n",
       "\n",
       "    .dataframe tbody tr th {\n",
       "        vertical-align: top;\n",
       "    }\n",
       "\n",
       "    .dataframe thead th {\n",
       "        text-align: right;\n",
       "    }\n",
       "</style>\n",
       "<table border=\"1\" class=\"dataframe\">\n",
       "  <thead>\n",
       "    <tr style=\"text-align: right;\">\n",
       "      <th></th>\n",
       "      <th>order_id</th>\n",
       "      <th>offer_id</th>\n",
       "    </tr>\n",
       "  </thead>\n",
       "  <tbody>\n",
       "  </tbody>\n",
       "</table>\n",
       "</div>"
      ],
      "text/plain": [
       "Empty DataFrame\n",
       "Columns: [order_id, offer_id]\n",
       "Index: []"
      ]
     },
     "execution_count": 46,
     "metadata": {},
     "output_type": "execute_result"
    }
   ],
   "source": [
    "pd.read_sql_query(\"\"\"\n",
    "                    SELECT *\n",
    "                    FROM offers\n",
    "                    WHERE order_id IS NULL\n",
    "                \"\"\", conn)"
   ]
  },
  {
   "cell_type": "markdown",
   "metadata": {},
   "source": []
  },
  {
   "attachments": {},
   "cell_type": "markdown",
   "metadata": {},
   "source": [
    "## Save Data to CSV"
   ]
  },
  {
   "cell_type": "code",
   "execution_count": 47,
   "metadata": {},
   "outputs": [],
   "source": [
    "orders.to_csv('orders.csv', index=False)"
   ]
  },
  {
   "cell_type": "code",
   "execution_count": 48,
   "metadata": {},
   "outputs": [],
   "source": [
    "offers.to_csv('offers.csv', index=False)"
   ]
  },
  {
   "cell_type": "markdown",
   "metadata": {},
   "source": []
  },
  {
   "attachments": {},
   "cell_type": "markdown",
   "metadata": {},
   "source": [
    "**EXPLORATORY DATA ANALYSIS**"
   ]
  },
  {
   "attachments": {},
   "cell_type": "markdown",
   "metadata": {},
   "source": [
    "1. Build up distribution of orders according to reasons for failure: cancellations before and after driver assignment, and reasons for order rejection. Analyse the resulting plot. Which category has the highest number of orders?"
   ]
  },
  {
   "cell_type": "code",
   "execution_count": 49,
   "metadata": {},
   "outputs": [
    {
     "data": {
      "text/html": [
       "<div>\n",
       "<style scoped>\n",
       "    .dataframe tbody tr th:only-of-type {\n",
       "        vertical-align: middle;\n",
       "    }\n",
       "\n",
       "    .dataframe tbody tr th {\n",
       "        vertical-align: top;\n",
       "    }\n",
       "\n",
       "    .dataframe thead th {\n",
       "        text-align: right;\n",
       "    }\n",
       "</style>\n",
       "<table border=\"1\" class=\"dataframe\">\n",
       "  <thead>\n",
       "    <tr style=\"text-align: right;\">\n",
       "      <th></th>\n",
       "      <th>total_order</th>\n",
       "      <th>status_canceled</th>\n",
       "      <th>status_driver</th>\n",
       "    </tr>\n",
       "  </thead>\n",
       "  <tbody>\n",
       "    <tr>\n",
       "      <th>0</th>\n",
       "      <td>4496</td>\n",
       "      <td>Client Canceled</td>\n",
       "      <td>No</td>\n",
       "    </tr>\n",
       "    <tr>\n",
       "      <th>1</th>\n",
       "      <td>3406</td>\n",
       "      <td>System Rejected</td>\n",
       "      <td>No</td>\n",
       "    </tr>\n",
       "    <tr>\n",
       "      <th>2</th>\n",
       "      <td>2811</td>\n",
       "      <td>Client Canceled</td>\n",
       "      <td>Yes</td>\n",
       "    </tr>\n",
       "    <tr>\n",
       "      <th>3</th>\n",
       "      <td>3</td>\n",
       "      <td>System Rejected</td>\n",
       "      <td>Yes</td>\n",
       "    </tr>\n",
       "  </tbody>\n",
       "</table>\n",
       "</div>"
      ],
      "text/plain": [
       "   total_order  status_canceled status_driver\n",
       "0         4496  Client Canceled            No\n",
       "1         3406  System Rejected            No\n",
       "2         2811  Client Canceled           Yes\n",
       "3            3  System Rejected           Yes"
      ]
     },
     "execution_count": 49,
     "metadata": {},
     "output_type": "execute_result"
    }
   ],
   "source": [
    "reason_failure = pd.read_sql_query(\"\"\"\n",
    "                                    WITH reason_failure AS (\n",
    "                                        SELECT\n",
    "                                            COUNT(order_id) AS total_order,\n",
    "                                            driver_assigned,\n",
    "                                            CASE\n",
    "                                                WHEN order_status = 4 THEN 'Client Canceled'\n",
    "                                                ELSE 'System Rejected'\n",
    "                                            END AS status_canceled\n",
    "                                        FROM orders\n",
    "                                        GROUP BY 2, 3\n",
    "                                    )\n",
    "                                        SELECT\n",
    "                                            total_order,\n",
    "                                            status_canceled,\n",
    "                                            CASE\n",
    "                                                WHEN driver_assigned = 0 THEN 'No'\n",
    "                                                ELSE 'Yes'\n",
    "                                            END AS status_driver\n",
    "                                        FROM reason_failure\n",
    "                                        ORDER BY total_order DESC\n",
    "                                    \"\"\", conn)\n",
    "reason_failure"
   ]
  },
  {
   "cell_type": "code",
   "execution_count": 50,
   "metadata": {},
   "outputs": [
    {
     "data": {
      "image/png": "[encoded data removed]",
      "text/plain": [
       "<Figure size 1000x600 with 1 Axes>"
      ]
     },
     "metadata": {},
     "output_type": "display_data"
    }
   ],
   "source": [
    "sns.set()\n",
    "plt.figure(figsize=(10, 6))\n",
    "\n",
    "ax = sns.barplot(x='status_canceled', y='total_order', hue='status_driver', data=reason_failure)\n",
    "for i in ax.containers:\n",
    "    ax.bar_label(i, )\n",
    "\n",
    "ax.set_title('Distribution of Orders According to Reasons for Failure')\n",
    "ax.grid(color='#cccccc')\n",
    "ax.set_xlabel('Status Canceled')\n",
    "ax.set_ylabel('Total Order')\n",
    "ax.set_xticklabels(reason_failure['status_canceled'].unique().astype(str), rotation='horizontal')\n",
    "ax.legend()\n",
    "\n",
    "plt.show()"
   ]
  },
  {
   "cell_type": "markdown",
   "metadata": {},
   "source": []
  },
  {
   "attachments": {},
   "cell_type": "markdown",
   "metadata": {},
   "source": [
    "2. Plot the distribution of failed orders by hours. Is there a trend that certain hours have an abnormally high proportion of one category or another? What hours are the biggest fails? How can this be explained?"
   ]
  },
  {
   "cell_type": "code",
   "execution_count": 51,
   "metadata": {},
   "outputs": [
    {
     "data": {
      "text/html": [
       "<div>\n",
       "<style scoped>\n",
       "    .dataframe tbody tr th:only-of-type {\n",
       "        vertical-align: middle;\n",
       "    }\n",
       "\n",
       "    .dataframe tbody tr th {\n",
       "        vertical-align: top;\n",
       "    }\n",
       "\n",
       "    .dataframe thead th {\n",
       "        text-align: right;\n",
       "    }\n",
       "</style>\n",
       "<table border=\"1\" class=\"dataframe\">\n",
       "  <thead>\n",
       "    <tr style=\"text-align: right;\">\n",
       "      <th></th>\n",
       "      <th>total_order</th>\n",
       "      <th>order_hours</th>\n",
       "    </tr>\n",
       "  </thead>\n",
       "  <tbody>\n",
       "    <tr>\n",
       "      <th>0</th>\n",
       "      <td>683</td>\n",
       "      <td>00</td>\n",
       "    </tr>\n",
       "    <tr>\n",
       "      <th>1</th>\n",
       "      <td>471</td>\n",
       "      <td>01</td>\n",
       "    </tr>\n",
       "    <tr>\n",
       "      <th>2</th>\n",
       "      <td>555</td>\n",
       "      <td>02</td>\n",
       "    </tr>\n",
       "    <tr>\n",
       "      <th>3</th>\n",
       "      <td>513</td>\n",
       "      <td>03</td>\n",
       "    </tr>\n",
       "    <tr>\n",
       "      <th>4</th>\n",
       "      <td>152</td>\n",
       "      <td>04</td>\n",
       "    </tr>\n",
       "    <tr>\n",
       "      <th>5</th>\n",
       "      <td>67</td>\n",
       "      <td>05</td>\n",
       "    </tr>\n",
       "    <tr>\n",
       "      <th>6</th>\n",
       "      <td>159</td>\n",
       "      <td>06</td>\n",
       "    </tr>\n",
       "    <tr>\n",
       "      <th>7</th>\n",
       "      <td>447</td>\n",
       "      <td>07</td>\n",
       "    </tr>\n",
       "    <tr>\n",
       "      <th>8</th>\n",
       "      <td>1082</td>\n",
       "      <td>08</td>\n",
       "    </tr>\n",
       "    <tr>\n",
       "      <th>9</th>\n",
       "      <td>412</td>\n",
       "      <td>09</td>\n",
       "    </tr>\n",
       "    <tr>\n",
       "      <th>10</th>\n",
       "      <td>170</td>\n",
       "      <td>10</td>\n",
       "    </tr>\n",
       "    <tr>\n",
       "      <th>11</th>\n",
       "      <td>193</td>\n",
       "      <td>11</td>\n",
       "    </tr>\n",
       "    <tr>\n",
       "      <th>12</th>\n",
       "      <td>256</td>\n",
       "      <td>12</td>\n",
       "    </tr>\n",
       "    <tr>\n",
       "      <th>13</th>\n",
       "      <td>366</td>\n",
       "      <td>13</td>\n",
       "    </tr>\n",
       "    <tr>\n",
       "      <th>14</th>\n",
       "      <td>256</td>\n",
       "      <td>14</td>\n",
       "    </tr>\n",
       "    <tr>\n",
       "      <th>15</th>\n",
       "      <td>439</td>\n",
       "      <td>15</td>\n",
       "    </tr>\n",
       "    <tr>\n",
       "      <th>16</th>\n",
       "      <td>356</td>\n",
       "      <td>16</td>\n",
       "    </tr>\n",
       "    <tr>\n",
       "      <th>17</th>\n",
       "      <td>541</td>\n",
       "      <td>17</td>\n",
       "    </tr>\n",
       "    <tr>\n",
       "      <th>18</th>\n",
       "      <td>414</td>\n",
       "      <td>18</td>\n",
       "    </tr>\n",
       "    <tr>\n",
       "      <th>19</th>\n",
       "      <td>317</td>\n",
       "      <td>19</td>\n",
       "    </tr>\n",
       "    <tr>\n",
       "      <th>20</th>\n",
       "      <td>469</td>\n",
       "      <td>20</td>\n",
       "    </tr>\n",
       "    <tr>\n",
       "      <th>21</th>\n",
       "      <td>846</td>\n",
       "      <td>21</td>\n",
       "    </tr>\n",
       "    <tr>\n",
       "      <th>22</th>\n",
       "      <td>716</td>\n",
       "      <td>22</td>\n",
       "    </tr>\n",
       "    <tr>\n",
       "      <th>23</th>\n",
       "      <td>836</td>\n",
       "      <td>23</td>\n",
       "    </tr>\n",
       "  </tbody>\n",
       "</table>\n",
       "</div>"
      ],
      "text/plain": [
       "    total_order order_hours\n",
       "0           683          00\n",
       "1           471          01\n",
       "2           555          02\n",
       "3           513          03\n",
       "4           152          04\n",
       "5            67          05\n",
       "6           159          06\n",
       "7           447          07\n",
       "8          1082          08\n",
       "9           412          09\n",
       "10          170          10\n",
       "11          193          11\n",
       "12          256          12\n",
       "13          366          13\n",
       "14          256          14\n",
       "15          439          15\n",
       "16          356          16\n",
       "17          541          17\n",
       "18          414          18\n",
       "19          317          19\n",
       "20          469          20\n",
       "21          846          21\n",
       "22          716          22\n",
       "23          836          23"
      ]
     },
     "execution_count": 51,
     "metadata": {},
     "output_type": "execute_result"
    }
   ],
   "source": [
    "failed_orders = pd.read_sql_query(\"\"\"\n",
    "                                    WITH failed_orders AS (\n",
    "                                        SELECT\n",
    "                                            COUNT(order_id) AS total_order,\n",
    "                                            STRFTIME('%H', order_datetime) AS order_hours\n",
    "                                        FROM orders\n",
    "                                        GROUP BY 2\n",
    "                                    )\n",
    "                                        SELECT *\n",
    "                                        FROM failed_orders\n",
    "                                        ORDER BY order_hours\n",
    "                                    \"\"\", conn)\n",
    "failed_orders"
   ]
  },
  {
   "cell_type": "code",
   "execution_count": 52,
   "metadata": {},
   "outputs": [
    {
     "name": "stderr",
     "output_type": "stream",
     "text": [
      "C:\\Users\\alfia\\AppData\\Local\\Temp\\ipykernel_8668\\1665563818.py:12: UserWarning: FixedFormatter should only be used together with FixedLocator\n",
      "  ax.set_xticklabels(failed_orders['order_hours'].unique().astype(str), rotation='horizontal')\n",
      "No artists with labels found to put in legend.  Note that artists whose label start with an underscore are ignored when legend() is called with no argument.\n"
     ]
    },
    {
     "data": {
      "image/png": "[encoded data removed]",
      "text/plain": [
       "<Figure size 2000x600 with 1 Axes>"
      ]
     },
     "metadata": {},
     "output_type": "display_data"
    }
   ],
   "source": [
    "sns.set()\n",
    "plt.figure(figsize=(20, 6))\n",
    "\n",
    "ax = sns.lineplot(x='order_hours', y='total_order', data=failed_orders)\n",
    "for i in ax.containers:\n",
    "    ax.bar_label(i, )\n",
    "\n",
    "ax.set_title('Distribution of Failed Orders by Hours')\n",
    "ax.grid(color='#cccccc')\n",
    "ax.set_xlabel('Hours')\n",
    "ax.set_ylabel('Total Order')\n",
    "ax.set_xticklabels(failed_orders['order_hours'].unique().astype(str), rotation='horizontal')\n",
    "ax.legend()\n",
    "\n",
    "plt.show()"
   ]
  },
  {
   "cell_type": "markdown",
   "metadata": {},
   "source": []
  },
  {
   "attachments": {},
   "cell_type": "markdown",
   "metadata": {},
   "source": [
    "3. Plot the average time to cancellation with and without driver, by the hour. If there are any outliers in the data, it would be better to remove them. Can we draw any conclusions from this plot?"
   ]
  },
  {
   "cell_type": "code",
   "execution_count": 53,
   "metadata": {},
   "outputs": [
    {
     "data": {
      "text/html": [
       "<div>\n",
       "<style scoped>\n",
       "    .dataframe tbody tr th:only-of-type {\n",
       "        vertical-align: middle;\n",
       "    }\n",
       "\n",
       "    .dataframe tbody tr th {\n",
       "        vertical-align: top;\n",
       "    }\n",
       "\n",
       "    .dataframe thead th {\n",
       "        text-align: right;\n",
       "    }\n",
       "</style>\n",
       "<table border=\"1\" class=\"dataframe\">\n",
       "  <thead>\n",
       "    <tr style=\"text-align: right;\">\n",
       "      <th></th>\n",
       "      <th>avg_cancel</th>\n",
       "      <th>order_hours</th>\n",
       "      <th>status_driver</th>\n",
       "    </tr>\n",
       "  </thead>\n",
       "  <tbody>\n",
       "    <tr>\n",
       "      <th>0</th>\n",
       "      <td>127.372549</td>\n",
       "      <td>00</td>\n",
       "      <td>No</td>\n",
       "    </tr>\n",
       "    <tr>\n",
       "      <th>1</th>\n",
       "      <td>134.934426</td>\n",
       "      <td>00</td>\n",
       "      <td>Yes</td>\n",
       "    </tr>\n",
       "    <tr>\n",
       "      <th>2</th>\n",
       "      <td>122.276762</td>\n",
       "      <td>01</td>\n",
       "      <td>No</td>\n",
       "    </tr>\n",
       "    <tr>\n",
       "      <th>3</th>\n",
       "      <td>122.170455</td>\n",
       "      <td>01</td>\n",
       "      <td>Yes</td>\n",
       "    </tr>\n",
       "    <tr>\n",
       "      <th>4</th>\n",
       "      <td>128.846960</td>\n",
       "      <td>02</td>\n",
       "      <td>No</td>\n",
       "    </tr>\n",
       "    <tr>\n",
       "      <th>5</th>\n",
       "      <td>132.294872</td>\n",
       "      <td>02</td>\n",
       "      <td>Yes</td>\n",
       "    </tr>\n",
       "    <tr>\n",
       "      <th>6</th>\n",
       "      <td>129.378619</td>\n",
       "      <td>03</td>\n",
       "      <td>No</td>\n",
       "    </tr>\n",
       "    <tr>\n",
       "      <th>7</th>\n",
       "      <td>111.171875</td>\n",
       "      <td>03</td>\n",
       "      <td>Yes</td>\n",
       "    </tr>\n",
       "    <tr>\n",
       "      <th>8</th>\n",
       "      <td>125.090090</td>\n",
       "      <td>04</td>\n",
       "      <td>No</td>\n",
       "    </tr>\n",
       "    <tr>\n",
       "      <th>9</th>\n",
       "      <td>112.487805</td>\n",
       "      <td>04</td>\n",
       "      <td>Yes</td>\n",
       "    </tr>\n",
       "    <tr>\n",
       "      <th>10</th>\n",
       "      <td>144.428571</td>\n",
       "      <td>05</td>\n",
       "      <td>No</td>\n",
       "    </tr>\n",
       "    <tr>\n",
       "      <th>11</th>\n",
       "      <td>107.720000</td>\n",
       "      <td>05</td>\n",
       "      <td>Yes</td>\n",
       "    </tr>\n",
       "    <tr>\n",
       "      <th>12</th>\n",
       "      <td>122.883929</td>\n",
       "      <td>06</td>\n",
       "      <td>No</td>\n",
       "    </tr>\n",
       "    <tr>\n",
       "      <th>13</th>\n",
       "      <td>96.574468</td>\n",
       "      <td>06</td>\n",
       "      <td>Yes</td>\n",
       "    </tr>\n",
       "    <tr>\n",
       "      <th>14</th>\n",
       "      <td>128.735395</td>\n",
       "      <td>07</td>\n",
       "      <td>No</td>\n",
       "    </tr>\n",
       "    <tr>\n",
       "      <th>15</th>\n",
       "      <td>115.442308</td>\n",
       "      <td>07</td>\n",
       "      <td>Yes</td>\n",
       "    </tr>\n",
       "    <tr>\n",
       "      <th>16</th>\n",
       "      <td>130.627604</td>\n",
       "      <td>08</td>\n",
       "      <td>No</td>\n",
       "    </tr>\n",
       "    <tr>\n",
       "      <th>17</th>\n",
       "      <td>116.340764</td>\n",
       "      <td>08</td>\n",
       "      <td>Yes</td>\n",
       "    </tr>\n",
       "    <tr>\n",
       "      <th>18</th>\n",
       "      <td>128.082031</td>\n",
       "      <td>09</td>\n",
       "      <td>No</td>\n",
       "    </tr>\n",
       "    <tr>\n",
       "      <th>19</th>\n",
       "      <td>114.365385</td>\n",
       "      <td>09</td>\n",
       "      <td>Yes</td>\n",
       "    </tr>\n",
       "    <tr>\n",
       "      <th>20</th>\n",
       "      <td>107.109890</td>\n",
       "      <td>10</td>\n",
       "      <td>No</td>\n",
       "    </tr>\n",
       "    <tr>\n",
       "      <th>21</th>\n",
       "      <td>109.594937</td>\n",
       "      <td>10</td>\n",
       "      <td>Yes</td>\n",
       "    </tr>\n",
       "    <tr>\n",
       "      <th>22</th>\n",
       "      <td>101.621951</td>\n",
       "      <td>11</td>\n",
       "      <td>No</td>\n",
       "    </tr>\n",
       "    <tr>\n",
       "      <th>23</th>\n",
       "      <td>126.369369</td>\n",
       "      <td>11</td>\n",
       "      <td>Yes</td>\n",
       "    </tr>\n",
       "    <tr>\n",
       "      <th>24</th>\n",
       "      <td>108.471338</td>\n",
       "      <td>12</td>\n",
       "      <td>No</td>\n",
       "    </tr>\n",
       "    <tr>\n",
       "      <th>25</th>\n",
       "      <td>107.141414</td>\n",
       "      <td>12</td>\n",
       "      <td>Yes</td>\n",
       "    </tr>\n",
       "    <tr>\n",
       "      <th>26</th>\n",
       "      <td>121.756098</td>\n",
       "      <td>13</td>\n",
       "      <td>No</td>\n",
       "    </tr>\n",
       "    <tr>\n",
       "      <th>27</th>\n",
       "      <td>109.425000</td>\n",
       "      <td>13</td>\n",
       "      <td>Yes</td>\n",
       "    </tr>\n",
       "    <tr>\n",
       "      <th>28</th>\n",
       "      <td>110.194969</td>\n",
       "      <td>14</td>\n",
       "      <td>No</td>\n",
       "    </tr>\n",
       "    <tr>\n",
       "      <th>29</th>\n",
       "      <td>119.876289</td>\n",
       "      <td>14</td>\n",
       "      <td>Yes</td>\n",
       "    </tr>\n",
       "    <tr>\n",
       "      <th>30</th>\n",
       "      <td>123.875000</td>\n",
       "      <td>15</td>\n",
       "      <td>No</td>\n",
       "    </tr>\n",
       "    <tr>\n",
       "      <th>31</th>\n",
       "      <td>118.398601</td>\n",
       "      <td>15</td>\n",
       "      <td>Yes</td>\n",
       "    </tr>\n",
       "    <tr>\n",
       "      <th>32</th>\n",
       "      <td>117.928571</td>\n",
       "      <td>16</td>\n",
       "      <td>No</td>\n",
       "    </tr>\n",
       "    <tr>\n",
       "      <th>33</th>\n",
       "      <td>116.833333</td>\n",
       "      <td>16</td>\n",
       "      <td>Yes</td>\n",
       "    </tr>\n",
       "    <tr>\n",
       "      <th>34</th>\n",
       "      <td>120.708556</td>\n",
       "      <td>17</td>\n",
       "      <td>No</td>\n",
       "    </tr>\n",
       "    <tr>\n",
       "      <th>35</th>\n",
       "      <td>118.934132</td>\n",
       "      <td>17</td>\n",
       "      <td>Yes</td>\n",
       "    </tr>\n",
       "    <tr>\n",
       "      <th>36</th>\n",
       "      <td>119.321429</td>\n",
       "      <td>18</td>\n",
       "      <td>No</td>\n",
       "    </tr>\n",
       "    <tr>\n",
       "      <th>37</th>\n",
       "      <td>119.335821</td>\n",
       "      <td>18</td>\n",
       "      <td>Yes</td>\n",
       "    </tr>\n",
       "    <tr>\n",
       "      <th>38</th>\n",
       "      <td>120.918782</td>\n",
       "      <td>19</td>\n",
       "      <td>No</td>\n",
       "    </tr>\n",
       "    <tr>\n",
       "      <th>39</th>\n",
       "      <td>119.008333</td>\n",
       "      <td>19</td>\n",
       "      <td>Yes</td>\n",
       "    </tr>\n",
       "    <tr>\n",
       "      <th>40</th>\n",
       "      <td>119.264789</td>\n",
       "      <td>20</td>\n",
       "      <td>No</td>\n",
       "    </tr>\n",
       "    <tr>\n",
       "      <th>41</th>\n",
       "      <td>112.614035</td>\n",
       "      <td>20</td>\n",
       "      <td>Yes</td>\n",
       "    </tr>\n",
       "    <tr>\n",
       "      <th>42</th>\n",
       "      <td>126.728495</td>\n",
       "      <td>21</td>\n",
       "      <td>No</td>\n",
       "    </tr>\n",
       "    <tr>\n",
       "      <th>43</th>\n",
       "      <td>118.313725</td>\n",
       "      <td>21</td>\n",
       "      <td>Yes</td>\n",
       "    </tr>\n",
       "    <tr>\n",
       "      <th>44</th>\n",
       "      <td>122.104056</td>\n",
       "      <td>22</td>\n",
       "      <td>No</td>\n",
       "    </tr>\n",
       "    <tr>\n",
       "      <th>45</th>\n",
       "      <td>117.919463</td>\n",
       "      <td>22</td>\n",
       "      <td>Yes</td>\n",
       "    </tr>\n",
       "    <tr>\n",
       "      <th>46</th>\n",
       "      <td>126.801471</td>\n",
       "      <td>23</td>\n",
       "      <td>No</td>\n",
       "    </tr>\n",
       "    <tr>\n",
       "      <th>47</th>\n",
       "      <td>127.660256</td>\n",
       "      <td>23</td>\n",
       "      <td>Yes</td>\n",
       "    </tr>\n",
       "  </tbody>\n",
       "</table>\n",
       "</div>"
      ],
      "text/plain": [
       "    avg_cancel order_hours status_driver\n",
       "0   127.372549          00            No\n",
       "1   134.934426          00           Yes\n",
       "2   122.276762          01            No\n",
       "3   122.170455          01           Yes\n",
       "4   128.846960          02            No\n",
       "5   132.294872          02           Yes\n",
       "6   129.378619          03            No\n",
       "7   111.171875          03           Yes\n",
       "8   125.090090          04            No\n",
       "9   112.487805          04           Yes\n",
       "10  144.428571          05            No\n",
       "11  107.720000          05           Yes\n",
       "12  122.883929          06            No\n",
       "13   96.574468          06           Yes\n",
       "14  128.735395          07            No\n",
       "15  115.442308          07           Yes\n",
       "16  130.627604          08            No\n",
       "17  116.340764          08           Yes\n",
       "18  128.082031          09            No\n",
       "19  114.365385          09           Yes\n",
       "20  107.109890          10            No\n",
       "21  109.594937          10           Yes\n",
       "22  101.621951          11            No\n",
       "23  126.369369          11           Yes\n",
       "24  108.471338          12            No\n",
       "25  107.141414          12           Yes\n",
       "26  121.756098          13            No\n",
       "27  109.425000          13           Yes\n",
       "28  110.194969          14            No\n",
       "29  119.876289          14           Yes\n",
       "30  123.875000          15            No\n",
       "31  118.398601          15           Yes\n",
       "32  117.928571          16            No\n",
       "33  116.833333          16           Yes\n",
       "34  120.708556          17            No\n",
       "35  118.934132          17           Yes\n",
       "36  119.321429          18            No\n",
       "37  119.335821          18           Yes\n",
       "38  120.918782          19            No\n",
       "39  119.008333          19           Yes\n",
       "40  119.264789          20            No\n",
       "41  112.614035          20           Yes\n",
       "42  126.728495          21            No\n",
       "43  118.313725          21           Yes\n",
       "44  122.104056          22            No\n",
       "45  117.919463          22           Yes\n",
       "46  126.801471          23            No\n",
       "47  127.660256          23           Yes"
      ]
     },
     "execution_count": 53,
     "metadata": {},
     "output_type": "execute_result"
    }
   ],
   "source": [
    "average_cancellation = pd.read_sql_query(\"\"\"\n",
    "                                            WITH average_cancellation AS (\n",
    "                                                SELECT\n",
    "                                                    AVG(cancellations) AS avg_cancel,\n",
    "                                                    STRFTIME('%H', order_datetime) AS order_hours,\n",
    "                                                    CASE\n",
    "                                                        WHEN driver_assigned = 0 THEN 'No'\n",
    "                                                        ELSE 'Yes'\n",
    "                                                    END AS status_driver\n",
    "                                                FROM orders\n",
    "                                                GROUP BY 2, 3\n",
    "                                        )\n",
    "                                                SELECT *\n",
    "                                                FROM average_cancellation\n",
    "                                                ORDER BY order_hours\n",
    "                                            \"\"\", conn)\n",
    "average_cancellation"
   ]
  },
  {
   "cell_type": "code",
   "execution_count": 54,
   "metadata": {},
   "outputs": [
    {
     "data": {
      "image/png": "[encoded data removed]",
      "text/plain": [
       "<Figure size 5000x1000 with 1 Axes>"
      ]
     },
     "metadata": {},
     "output_type": "display_data"
    }
   ],
   "source": [
    "sns.set()\n",
    "plt.figure(figsize=(50, 10))\n",
    "\n",
    "ax = sns.barplot(x='order_hours', y='avg_cancel', hue='status_driver', data=average_cancellation)\n",
    "for i in ax.containers:\n",
    "    ax.bar_label(i, )\n",
    "\n",
    "ax.set_title('Average Time to Cancellation with and without Driver, by the Hour')\n",
    "ax.grid(color='#cccccc')\n",
    "ax.set_xlabel('Hours')\n",
    "ax.set_ylabel('Average Cancellations')\n",
    "ax.set_xticklabels(average_cancellation['order_hours'].unique().astype(str), rotation='horizontal')\n",
    "ax.legend()\n",
    "\n",
    "plt.show()"
   ]
  },
  {
   "cell_type": "markdown",
   "metadata": {},
   "source": []
  },
  {
   "attachments": {},
   "cell_type": "markdown",
   "metadata": {},
   "source": [
    "4. Plot the distribution of average ETA by hours. How can this plot be explained?"
   ]
  },
  {
   "cell_type": "code",
   "execution_count": 56,
   "metadata": {},
   "outputs": [
    {
     "data": {
      "text/html": [
       "<div>\n",
       "<style scoped>\n",
       "    .dataframe tbody tr th:only-of-type {\n",
       "        vertical-align: middle;\n",
       "    }\n",
       "\n",
       "    .dataframe tbody tr th {\n",
       "        vertical-align: top;\n",
       "    }\n",
       "\n",
       "    .dataframe thead th {\n",
       "        text-align: right;\n",
       "    }\n",
       "</style>\n",
       "<table border=\"1\" class=\"dataframe\">\n",
       "  <thead>\n",
       "    <tr style=\"text-align: right;\">\n",
       "      <th></th>\n",
       "      <th>average_eta</th>\n",
       "      <th>order_hours</th>\n",
       "      <th>status</th>\n",
       "    </tr>\n",
       "  </thead>\n",
       "  <tbody>\n",
       "    <tr>\n",
       "      <th>0</th>\n",
       "      <td>441.00</td>\n",
       "      <td>00</td>\n",
       "      <td>No, Client Canceled</td>\n",
       "    </tr>\n",
       "    <tr>\n",
       "      <th>1</th>\n",
       "      <td>441.00</td>\n",
       "      <td>00</td>\n",
       "      <td>No, System Rejected</td>\n",
       "    </tr>\n",
       "    <tr>\n",
       "      <th>2</th>\n",
       "      <td>360.94</td>\n",
       "      <td>00</td>\n",
       "      <td>Yes, Client Canceled</td>\n",
       "    </tr>\n",
       "    <tr>\n",
       "      <th>3</th>\n",
       "      <td>179.00</td>\n",
       "      <td>00</td>\n",
       "      <td>Yes, System Rejected</td>\n",
       "    </tr>\n",
       "    <tr>\n",
       "      <th>4</th>\n",
       "      <td>441.00</td>\n",
       "      <td>01</td>\n",
       "      <td>No, Client Canceled</td>\n",
       "    </tr>\n",
       "    <tr>\n",
       "      <th>...</th>\n",
       "      <td>...</td>\n",
       "      <td>...</td>\n",
       "      <td>...</td>\n",
       "    </tr>\n",
       "    <tr>\n",
       "      <th>69</th>\n",
       "      <td>441.00</td>\n",
       "      <td>22</td>\n",
       "      <td>No, System Rejected</td>\n",
       "    </tr>\n",
       "    <tr>\n",
       "      <th>70</th>\n",
       "      <td>372.74</td>\n",
       "      <td>22</td>\n",
       "      <td>Yes, Client Canceled</td>\n",
       "    </tr>\n",
       "    <tr>\n",
       "      <th>71</th>\n",
       "      <td>441.00</td>\n",
       "      <td>23</td>\n",
       "      <td>No, Client Canceled</td>\n",
       "    </tr>\n",
       "    <tr>\n",
       "      <th>72</th>\n",
       "      <td>441.00</td>\n",
       "      <td>23</td>\n",
       "      <td>No, System Rejected</td>\n",
       "    </tr>\n",
       "    <tr>\n",
       "      <th>73</th>\n",
       "      <td>408.43</td>\n",
       "      <td>23</td>\n",
       "      <td>Yes, Client Canceled</td>\n",
       "    </tr>\n",
       "  </tbody>\n",
       "</table>\n",
       "<p>74 rows × 3 columns</p>\n",
       "</div>"
      ],
      "text/plain": [
       "    average_eta order_hours                status\n",
       "0        441.00          00   No, Client Canceled\n",
       "1        441.00          00   No, System Rejected\n",
       "2        360.94          00  Yes, Client Canceled\n",
       "3        179.00          00  Yes, System Rejected\n",
       "4        441.00          01   No, Client Canceled\n",
       "..          ...         ...                   ...\n",
       "69       441.00          22   No, System Rejected\n",
       "70       372.74          22  Yes, Client Canceled\n",
       "71       441.00          23   No, Client Canceled\n",
       "72       441.00          23   No, System Rejected\n",
       "73       408.43          23  Yes, Client Canceled\n",
       "\n",
       "[74 rows x 3 columns]"
      ]
     },
     "execution_count": 56,
     "metadata": {},
     "output_type": "execute_result"
    }
   ],
   "source": [
    "average_eta = pd.read_sql_query(\"\"\"\n",
    "                                    WITH average_eta AS (\n",
    "                                        SELECT\n",
    "                                            ROUND(AVG(order_eta), 2) AS average_eta,\n",
    "                                            STRFTIME('%H', order_datetime) AS order_hours,\n",
    "                                            CASE\n",
    "                                                WHEN driver_assigned = 0 THEN 'No'\n",
    "                                                ELSE 'Yes'\n",
    "                                            END AS status_driver,\n",
    "                                            CASE\n",
    "                                                WHEN order_status = 4 THEN 'Client Canceled'\n",
    "                                                ELSE 'System Rejected'\n",
    "                                            END AS status_canceled\n",
    "                                        FROM orders\n",
    "                                        GROUP BY 2, 3, 4\n",
    "                                )\n",
    "                                        SELECT\n",
    "                                            average_eta,\n",
    "                                            order_hours,\n",
    "                                            status_driver  || ', ' || status_canceled AS status\n",
    "                                        FROM average_eta\n",
    "                                        ORDER BY order_hours\n",
    "                                \"\"\", conn)\n",
    "average_eta"
   ]
  },
  {
   "cell_type": "code",
   "execution_count": 58,
   "metadata": {},
   "outputs": [
    {
     "data": {
      "image/png": "[encoded data removed]",
      "text/plain": [
       "<Figure size 3000x1000 with 1 Axes>"
      ]
     },
     "metadata": {},
     "output_type": "display_data"
    }
   ],
   "source": [
    "sns.set()\n",
    "plt.figure(figsize=(30, 10))\n",
    "\n",
    "ax = sns.barplot(x='order_hours', y='average_eta', hue='status', data=average_eta)\n",
    "for i in ax.containers:\n",
    "    ax.bar_label(i, )\n",
    "\n",
    "ax.set_title('Distribution of Average ETA by Hours')\n",
    "ax.grid(color='#cccccc')\n",
    "ax.set_xlabel('Hours')\n",
    "ax.set_ylabel('Average ETA')\n",
    "ax.set_xticklabels(average_eta['order_hours'].unique().astype(str), rotation='horizontal')\n",
    "ax.legend()\n",
    "\n",
    "plt.show()"
   ]
  },
  {
   "cell_type": "markdown",
   "metadata": {},
   "source": []
  },
  {
   "cell_type": "markdown",
   "metadata": {},
   "source": [
    "**Insight and Recommendation**"
   ]
  },
  {
   "attachments": {},
   "cell_type": "markdown",
   "metadata": {},
   "source": [
    "**Insight**"
   ]
  },
  {
   "attachments": {},
   "cell_type": "markdown",
   "metadata": {},
   "source": [
    "1. Most order failures are caused when the driver has not been assigned, whether it is canceled by the customer or the system rejects it.\n",
    "2. The most order failures occur at 8am.\n",
    "3. Order failures with the highest average cancel time when the driver has not been assigned at 6 a.m. and when the driver has been assigned at 12 am.\n",
    "4. order failures when before the arrival of the order most often occur due to canceling from customers and it happens most often at 8 am."
   ]
  },
  {
   "attachments": {},
   "cell_type": "markdown",
   "metadata": {},
   "source": [
    "**Recommendation**"
   ]
  },
  {
   "attachments": {},
   "cell_type": "markdown",
   "metadata": {},
   "source": [
    "1. Most order failures are when drivers have not been assigned, this could be due to the lack of available drivers.\n",
    "2. The most order failures occur at 8 am, this may be due to the level of order booking by customers experiencing very high traffic.\n",
    "3. Order failures with the highest average cancel time are when the driver has not been assigned which is most at 6 am, this can occur because many drivers are not ready to start work at that hour and when the driver has been assigned most at 12 pm, this can be caused by many drivers who are running orders.\n",
    "4. Failure of orders before the arrival of orders, namely when customers cancel at most at 8 am, this can occur possibly because customers need orders quickly because at that time customers want to leave for work.\n",
    "\n",
    "From the results of the analysis, I will provide recommendations so that the company can increase the number of drivers to be able to reduce the number of order failures in the future."
   ]
  }
 ],
 "metadata": {
  "celltoolbar": "Slideshow",
  "kernelspec": {
   "display_name": "Python 3 (ipykernel)",
   "language": "python",
   "name": "python3"
  },
  "language_info": {
   "codemirror_mode": {
    "name": "ipython",
    "version": 3
   },
   "file_extension": ".py",
   "mimetype": "text/x-python",
   "name": "python",
   "nbconvert_exporter": "python",
   "pygments_lexer": "ipython3",
   "version": "3.11.1"
  }
 },
 "nbformat": 4,
 "nbformat_minor": 2
}

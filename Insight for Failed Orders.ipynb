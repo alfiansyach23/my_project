{
 "cells": [
  {
   "attachments": {},
   "cell_type": "markdown",
   "metadata": {},
   "source": [
    "**IMPORT PACKAGES**"
   ]
  },
  {
   "cell_type": "code",
   "execution_count": 1,
   "metadata": {},
   "outputs": [],
   "source": [
    "import os\n",
    "import pandas as pd\n",
    "import numpy as np\n",
    "from datetime import datetime\n",
    "import matplotlib.pyplot as plt\n",
    "import seaborn as sns"
   ]
  },
  {
   "cell_type": "markdown",
   "metadata": {},
   "source": []
  },
  {
   "attachments": {},
   "cell_type": "markdown",
   "metadata": {},
   "source": [
    "**LOAD DATASET**"
   ]
  },
  {
   "cell_type": "code",
   "execution_count": 2,
   "metadata": {},
   "outputs": [
    {
     "data": {
      "text/plain": [
       "['data_offers.csv', 'data_orders.csv', 'globalterrorismdb_0718dist.tar.bz2']"
      ]
     },
     "execution_count": 2,
     "metadata": {},
     "output_type": "execute_result"
    }
   ],
   "source": [
    "path = 'C:/datasets/datasets/'\n",
    "os.listdir(path)"
   ]
  },
  {
   "cell_type": "code",
   "execution_count": 3,
   "metadata": {},
   "outputs": [],
   "source": [
    "data_offers = pd.read_csv(path + 'data_offers.csv')\n",
    "data_orders = pd.read_csv(path + 'data_orders.csv')"
   ]
  },
  {
   "cell_type": "markdown",
   "metadata": {},
   "source": []
  },
  {
   "attachments": {},
   "cell_type": "markdown",
   "metadata": {},
   "source": [
    "**BUSINESS UNDERSTANDING**"
   ]
  },
  {
   "attachments": {},
   "cell_type": "markdown",
   "metadata": {},
   "source": [
    "Gett, previously known as GetTaxi, is an Israeli-developed technology platform solely focused on corporate Ground Transportation Management (GTM). They have an application where clients can order taxis, and drivers can accept their rides (offers). At the moment, when the client clicks the Order button in the application, the matching system searches for the most relevant drivers and offers them the order. In this task, we would like to investigate some matching metrics for orders that did not completed successfully, i.e., the customer didn't end up getting a car."
   ]
  },
  {
   "attachments": {},
   "cell_type": "markdown",
   "metadata": {},
   "source": [
    "Please complete the following tasks.\n",
    "\n",
    "1. Build up distribution of orders according to reasons for failure: cancellations before and after driver assignment, and reasons for order rejection. Analyse the resulting plot. Which category has the highest number of orders?\n",
    "\n",
    "2. Plot the distribution of failed orders by hours. Is there a trend that certain hours have an abnormally high proportion of one category or another? What hours are the biggest fails? How can this be explained?\n",
    "\n",
    "3. Plot the average time to cancellation with and without driver, by the hour. If there are any outliers in the data, it would be better to remove them. Can we draw any conclusions from this plot?\n",
    "\n",
    "4. Plot the distribution of average ETA by hours. How can this plot be explained?"
   ]
  },
  {
   "cell_type": "markdown",
   "metadata": {},
   "source": []
  },
  {
   "attachments": {},
   "cell_type": "markdown",
   "metadata": {},
   "source": [
    "**DATA UNDERSTANDING**"
   ]
  },
  {
   "attachments": {},
   "cell_type": "markdown",
   "metadata": {},
   "source": [
    "We have two data sets: data_orders and data_offers, both being stored in a CSV format.\n",
    "\n",
    "The data_orders data set contains the following columns:\n",
    "\n",
    "- **order_datetime** - time of the order\n",
    "- **origin_longitude** - longitude of the order\n",
    "- **origin_latitude** - latitude of the order\n",
    "- **m_order_eta** - time before order arrival\n",
    "- **order_gk** - order number\n",
    "- **order_status_key** - status, an enumeration consisting of the following mapping:\n",
    "    - **4** - cancelled by client,\n",
    "    - **9** - cancelled by system, i.e., a reject\n",
    "- **is_driver_assigned_key** - whether a driver has been assigned\n",
    "- **cancellation_time_in_seconds** - how many seconds passed before cancellation\n",
    "\n",
    "The data_offers data set is a simple map with 2 columns:\n",
    "\n",
    "- **order_gk** - order number, associated with the same column from the orders data set\n",
    "- **offer_id** - ID of an offer"
   ]
  },
  {
   "cell_type": "markdown",
   "metadata": {},
   "source": []
  },
  {
   "cell_type": "code",
   "execution_count": 4,
   "metadata": {},
   "outputs": [
    {
     "data": {
      "text/html": [
       "<div>\n",
       "<style scoped>\n",
       "    .dataframe tbody tr th:only-of-type {\n",
       "        vertical-align: middle;\n",
       "    }\n",
       "\n",
       "    .dataframe tbody tr th {\n",
       "        vertical-align: top;\n",
       "    }\n",
       "\n",
       "    .dataframe thead th {\n",
       "        text-align: right;\n",
       "    }\n",
       "</style>\n",
       "<table border=\"1\" class=\"dataframe\">\n",
       "  <thead>\n",
       "    <tr style=\"text-align: right;\">\n",
       "      <th></th>\n",
       "      <th>order_datetime</th>\n",
       "      <th>origin_longitude</th>\n",
       "      <th>origin_latitude</th>\n",
       "      <th>m_order_eta</th>\n",
       "      <th>order_gk</th>\n",
       "      <th>order_status_key</th>\n",
       "      <th>is_driver_assigned_key</th>\n",
       "      <th>cancellations_time_in_seconds</th>\n",
       "    </tr>\n",
       "  </thead>\n",
       "  <tbody>\n",
       "    <tr>\n",
       "      <th>0</th>\n",
       "      <td>18:08:07</td>\n",
       "      <td>-0.978916</td>\n",
       "      <td>51.456173</td>\n",
       "      <td>60.0</td>\n",
       "      <td>3000583041974</td>\n",
       "      <td>4</td>\n",
       "      <td>1</td>\n",
       "      <td>198.0</td>\n",
       "    </tr>\n",
       "    <tr>\n",
       "      <th>1</th>\n",
       "      <td>20:57:32</td>\n",
       "      <td>-0.950385</td>\n",
       "      <td>51.456843</td>\n",
       "      <td>NaN</td>\n",
       "      <td>3000583116437</td>\n",
       "      <td>4</td>\n",
       "      <td>0</td>\n",
       "      <td>128.0</td>\n",
       "    </tr>\n",
       "    <tr>\n",
       "      <th>2</th>\n",
       "      <td>12:07:50</td>\n",
       "      <td>-0.969520</td>\n",
       "      <td>51.455544</td>\n",
       "      <td>477.0</td>\n",
       "      <td>3000582891479</td>\n",
       "      <td>4</td>\n",
       "      <td>1</td>\n",
       "      <td>46.0</td>\n",
       "    </tr>\n",
       "    <tr>\n",
       "      <th>3</th>\n",
       "      <td>13:50:20</td>\n",
       "      <td>-1.054671</td>\n",
       "      <td>51.460544</td>\n",
       "      <td>658.0</td>\n",
       "      <td>3000582941169</td>\n",
       "      <td>4</td>\n",
       "      <td>1</td>\n",
       "      <td>62.0</td>\n",
       "    </tr>\n",
       "    <tr>\n",
       "      <th>4</th>\n",
       "      <td>21:24:45</td>\n",
       "      <td>-0.967605</td>\n",
       "      <td>51.458236</td>\n",
       "      <td>NaN</td>\n",
       "      <td>3000583140877</td>\n",
       "      <td>9</td>\n",
       "      <td>0</td>\n",
       "      <td>NaN</td>\n",
       "    </tr>\n",
       "  </tbody>\n",
       "</table>\n",
       "</div>"
      ],
      "text/plain": [
       "  order_datetime  origin_longitude  origin_latitude  m_order_eta  \\\n",
       "0       18:08:07         -0.978916        51.456173         60.0   \n",
       "1       20:57:32         -0.950385        51.456843          NaN   \n",
       "2       12:07:50         -0.969520        51.455544        477.0   \n",
       "3       13:50:20         -1.054671        51.460544        658.0   \n",
       "4       21:24:45         -0.967605        51.458236          NaN   \n",
       "\n",
       "        order_gk  order_status_key  is_driver_assigned_key  \\\n",
       "0  3000583041974                 4                       1   \n",
       "1  3000583116437                 4                       0   \n",
       "2  3000582891479                 4                       1   \n",
       "3  3000582941169                 4                       1   \n",
       "4  3000583140877                 9                       0   \n",
       "\n",
       "   cancellations_time_in_seconds  \n",
       "0                          198.0  \n",
       "1                          128.0  \n",
       "2                           46.0  \n",
       "3                           62.0  \n",
       "4                            NaN  "
      ]
     },
     "execution_count": 4,
     "metadata": {},
     "output_type": "execute_result"
    }
   ],
   "source": [
    "data_orders.head()"
   ]
  },
  {
   "cell_type": "code",
   "execution_count": 5,
   "metadata": {},
   "outputs": [
    {
     "name": "stdout",
     "output_type": "stream",
     "text": [
      "<class 'pandas.core.frame.DataFrame'>\n",
      "RangeIndex: 10716 entries, 0 to 10715\n",
      "Data columns (total 8 columns):\n",
      " #   Column                         Non-Null Count  Dtype  \n",
      "---  ------                         --------------  -----  \n",
      " 0   order_datetime                 10716 non-null  object \n",
      " 1   origin_longitude               10716 non-null  float64\n",
      " 2   origin_latitude                10716 non-null  float64\n",
      " 3   m_order_eta                    2814 non-null   float64\n",
      " 4   order_gk                       10716 non-null  int64  \n",
      " 5   order_status_key               10716 non-null  int64  \n",
      " 6   is_driver_assigned_key         10716 non-null  int64  \n",
      " 7   cancellations_time_in_seconds  7307 non-null   float64\n",
      "dtypes: float64(4), int64(3), object(1)\n",
      "memory usage: 669.9+ KB\n"
     ]
    }
   ],
   "source": [
    "data_orders.info()"
   ]
  },
  {
   "cell_type": "code",
   "execution_count": 6,
   "metadata": {},
   "outputs": [
    {
     "data": {
      "text/html": [
       "<div>\n",
       "<style scoped>\n",
       "    .dataframe tbody tr th:only-of-type {\n",
       "        vertical-align: middle;\n",
       "    }\n",
       "\n",
       "    .dataframe tbody tr th {\n",
       "        vertical-align: top;\n",
       "    }\n",
       "\n",
       "    .dataframe thead th {\n",
       "        text-align: right;\n",
       "    }\n",
       "</style>\n",
       "<table border=\"1\" class=\"dataframe\">\n",
       "  <thead>\n",
       "    <tr style=\"text-align: right;\">\n",
       "      <th></th>\n",
       "      <th>order_gk</th>\n",
       "      <th>offer_id</th>\n",
       "    </tr>\n",
       "  </thead>\n",
       "  <tbody>\n",
       "    <tr>\n",
       "      <th>0</th>\n",
       "      <td>3000579625629</td>\n",
       "      <td>300050936206</td>\n",
       "    </tr>\n",
       "    <tr>\n",
       "      <th>1</th>\n",
       "      <td>3000627306450</td>\n",
       "      <td>300052064651</td>\n",
       "    </tr>\n",
       "    <tr>\n",
       "      <th>2</th>\n",
       "      <td>3000632920686</td>\n",
       "      <td>300052408812</td>\n",
       "    </tr>\n",
       "    <tr>\n",
       "      <th>3</th>\n",
       "      <td>3000632771725</td>\n",
       "      <td>300052393030</td>\n",
       "    </tr>\n",
       "    <tr>\n",
       "      <th>4</th>\n",
       "      <td>3000583467642</td>\n",
       "      <td>300051001196</td>\n",
       "    </tr>\n",
       "  </tbody>\n",
       "</table>\n",
       "</div>"
      ],
      "text/plain": [
       "        order_gk      offer_id\n",
       "0  3000579625629  300050936206\n",
       "1  3000627306450  300052064651\n",
       "2  3000632920686  300052408812\n",
       "3  3000632771725  300052393030\n",
       "4  3000583467642  300051001196"
      ]
     },
     "execution_count": 6,
     "metadata": {},
     "output_type": "execute_result"
    }
   ],
   "source": [
    "data_offers.head()"
   ]
  },
  {
   "cell_type": "code",
   "execution_count": 7,
   "metadata": {},
   "outputs": [
    {
     "name": "stdout",
     "output_type": "stream",
     "text": [
      "<class 'pandas.core.frame.DataFrame'>\n",
      "RangeIndex: 334363 entries, 0 to 334362\n",
      "Data columns (total 2 columns):\n",
      " #   Column    Non-Null Count   Dtype\n",
      "---  ------    --------------   -----\n",
      " 0   order_gk  334363 non-null  int64\n",
      " 1   offer_id  334363 non-null  int64\n",
      "dtypes: int64(2)\n",
      "memory usage: 5.1 MB\n"
     ]
    }
   ],
   "source": [
    "data_offers.info()"
   ]
  },
  {
   "cell_type": "markdown",
   "metadata": {},
   "source": []
  },
  {
   "cell_type": "markdown",
   "metadata": {},
   "source": [
    "**Data Preparation**"
   ]
  },
  {
   "attachments": {},
   "cell_type": "markdown",
   "metadata": {},
   "source": [
    "- **Data Cleansing**"
   ]
  },
  {
   "attachments": {},
   "cell_type": "markdown",
   "metadata": {},
   "source": [
    "1. Check Missing Value"
   ]
  },
  {
   "cell_type": "code",
   "execution_count": 8,
   "metadata": {},
   "outputs": [
    {
     "data": {
      "text/plain": [
       "order_datetime                      0\n",
       "origin_longitude                    0\n",
       "origin_latitude                     0\n",
       "m_order_eta                      7902\n",
       "order_gk                            0\n",
       "order_status_key                    0\n",
       "is_driver_assigned_key              0\n",
       "cancellations_time_in_seconds    3409\n",
       "dtype: int64"
      ]
     },
     "execution_count": 8,
     "metadata": {},
     "output_type": "execute_result"
    }
   ],
   "source": [
    "missing_value_orders = pd.isnull(data_orders).sum()\n",
    "missing_value_orders"
   ]
  },
  {
   "cell_type": "code",
   "execution_count": 9,
   "metadata": {},
   "outputs": [
    {
     "data": {
      "text/plain": [
       "order_datetime                   0.000000\n",
       "origin_longitude                 0.000000\n",
       "origin_latitude                  0.000000\n",
       "m_order_eta                      0.737402\n",
       "order_gk                         0.000000\n",
       "order_status_key                 0.000000\n",
       "is_driver_assigned_key           0.000000\n",
       "cancellations_time_in_seconds    0.318122\n",
       "dtype: float64"
      ]
     },
     "execution_count": 9,
     "metadata": {},
     "output_type": "execute_result"
    }
   ],
   "source": [
    "rasio = missing_value_orders.div(len(data_orders))\n",
    "rasio"
   ]
  },
  {
   "cell_type": "code",
   "execution_count": 10,
   "metadata": {},
   "outputs": [
    {
     "data": {
      "text/plain": [
       "count    2814.000000\n",
       "mean      441.415423\n",
       "std       288.006379\n",
       "min        60.000000\n",
       "25%       233.000000\n",
       "50%       368.500000\n",
       "75%       653.000000\n",
       "max      1559.000000\n",
       "Name: m_order_eta, dtype: float64"
      ]
     },
     "execution_count": 10,
     "metadata": {},
     "output_type": "execute_result"
    }
   ],
   "source": [
    "data_orders['m_order_eta'].describe()"
   ]
  },
  {
   "cell_type": "code",
   "execution_count": 11,
   "metadata": {},
   "outputs": [],
   "source": [
    "data_orders['m_order_eta'].fillna(int(data_orders['m_order_eta'].mean()), inplace=True)"
   ]
  },
  {
   "cell_type": "code",
   "execution_count": 12,
   "metadata": {},
   "outputs": [
    {
     "data": {
      "text/plain": [
       "count    10716.000000\n",
       "mean       441.109089\n",
       "std        147.567669\n",
       "min         60.000000\n",
       "25%        441.000000\n",
       "50%        441.000000\n",
       "75%        441.000000\n",
       "max       1559.000000\n",
       "Name: m_order_eta, dtype: float64"
      ]
     },
     "execution_count": 12,
     "metadata": {},
     "output_type": "execute_result"
    }
   ],
   "source": [
    "data_orders['m_order_eta'].describe()"
   ]
  },
  {
   "cell_type": "code",
   "execution_count": 13,
   "metadata": {},
   "outputs": [
    {
     "data": {
      "text/plain": [
       "count    7307.000000\n",
       "mean      157.892021\n",
       "std       213.366963\n",
       "min         3.000000\n",
       "25%        45.000000\n",
       "50%        98.000000\n",
       "75%       187.500000\n",
       "max      4303.000000\n",
       "Name: cancellations_time_in_seconds, dtype: float64"
      ]
     },
     "execution_count": 13,
     "metadata": {},
     "output_type": "execute_result"
    }
   ],
   "source": [
    "data_orders['cancellations_time_in_seconds'].describe()"
   ]
  },
  {
   "cell_type": "code",
   "execution_count": 14,
   "metadata": {},
   "outputs": [],
   "source": [
    "data_orders['cancellations_time_in_seconds'].fillna(int(data_orders['cancellations_time_in_seconds'].mean()), inplace=True)"
   ]
  },
  {
   "cell_type": "code",
   "execution_count": 15,
   "metadata": {},
   "outputs": [
    {
     "data": {
      "text/plain": [
       "count    10716.000000\n",
       "mean       157.608249\n",
       "std        176.186298\n",
       "min          3.000000\n",
       "25%         67.000000\n",
       "50%        157.000000\n",
       "75%        157.000000\n",
       "max       4303.000000\n",
       "Name: cancellations_time_in_seconds, dtype: float64"
      ]
     },
     "execution_count": 15,
     "metadata": {},
     "output_type": "execute_result"
    }
   ],
   "source": [
    "data_orders['cancellations_time_in_seconds'].describe()"
   ]
  },
  {
   "cell_type": "code",
   "execution_count": 16,
   "metadata": {},
   "outputs": [
    {
     "data": {
      "text/plain": [
       "order_datetime                   0\n",
       "origin_longitude                 0\n",
       "origin_latitude                  0\n",
       "m_order_eta                      0\n",
       "order_gk                         0\n",
       "order_status_key                 0\n",
       "is_driver_assigned_key           0\n",
       "cancellations_time_in_seconds    0\n",
       "dtype: int64"
      ]
     },
     "execution_count": 16,
     "metadata": {},
     "output_type": "execute_result"
    }
   ],
   "source": [
    "pd.isnull(data_orders).sum()"
   ]
  },
  {
   "cell_type": "code",
   "execution_count": 17,
   "metadata": {},
   "outputs": [
    {
     "data": {
      "text/plain": [
       "order_gk    0\n",
       "offer_id    0\n",
       "dtype: int64"
      ]
     },
     "execution_count": 17,
     "metadata": {},
     "output_type": "execute_result"
    }
   ],
   "source": [
    "pd.isnull(data_offers).sum()"
   ]
  },
  {
   "cell_type": "markdown",
   "metadata": {},
   "source": []
  },
  {
   "attachments": {},
   "cell_type": "markdown",
   "metadata": {},
   "source": [
    "2. Check Duplicate Data"
   ]
  },
  {
   "cell_type": "code",
   "execution_count": 18,
   "metadata": {},
   "outputs": [
    {
     "data": {
      "text/html": [
       "<div>\n",
       "<style scoped>\n",
       "    .dataframe tbody tr th:only-of-type {\n",
       "        vertical-align: middle;\n",
       "    }\n",
       "\n",
       "    .dataframe tbody tr th {\n",
       "        vertical-align: top;\n",
       "    }\n",
       "\n",
       "    .dataframe thead th {\n",
       "        text-align: right;\n",
       "    }\n",
       "</style>\n",
       "<table border=\"1\" class=\"dataframe\">\n",
       "  <thead>\n",
       "    <tr style=\"text-align: right;\">\n",
       "      <th></th>\n",
       "      <th>order_datetime</th>\n",
       "      <th>origin_longitude</th>\n",
       "      <th>origin_latitude</th>\n",
       "      <th>m_order_eta</th>\n",
       "      <th>order_gk</th>\n",
       "      <th>order_status_key</th>\n",
       "      <th>is_driver_assigned_key</th>\n",
       "      <th>cancellations_time_in_seconds</th>\n",
       "    </tr>\n",
       "  </thead>\n",
       "  <tbody>\n",
       "  </tbody>\n",
       "</table>\n",
       "</div>"
      ],
      "text/plain": [
       "Empty DataFrame\n",
       "Columns: [order_datetime, origin_longitude, origin_latitude, m_order_eta, order_gk, order_status_key, is_driver_assigned_key, cancellations_time_in_seconds]\n",
       "Index: []"
      ]
     },
     "execution_count": 18,
     "metadata": {},
     "output_type": "execute_result"
    }
   ],
   "source": [
    "data_orders[data_orders['order_gk'].duplicated(keep=False)].sort_values(['order_gk'])"
   ]
  },
  {
   "cell_type": "code",
   "execution_count": 19,
   "metadata": {},
   "outputs": [
    {
     "data": {
      "text/html": [
       "<div>\n",
       "<style scoped>\n",
       "    .dataframe tbody tr th:only-of-type {\n",
       "        vertical-align: middle;\n",
       "    }\n",
       "\n",
       "    .dataframe tbody tr th {\n",
       "        vertical-align: top;\n",
       "    }\n",
       "\n",
       "    .dataframe thead th {\n",
       "        text-align: right;\n",
       "    }\n",
       "</style>\n",
       "<table border=\"1\" class=\"dataframe\">\n",
       "  <thead>\n",
       "    <tr style=\"text-align: right;\">\n",
       "      <th></th>\n",
       "      <th>order_gk</th>\n",
       "      <th>offer_id</th>\n",
       "    </tr>\n",
       "  </thead>\n",
       "  <tbody>\n",
       "    <tr>\n",
       "      <th>253839</th>\n",
       "      <td>3000551431560</td>\n",
       "      <td>300050591209</td>\n",
       "    </tr>\n",
       "    <tr>\n",
       "      <th>215287</th>\n",
       "      <td>3000551431560</td>\n",
       "      <td>300050591208</td>\n",
       "    </tr>\n",
       "    <tr>\n",
       "      <th>195130</th>\n",
       "      <td>3000551431566</td>\n",
       "      <td>300050591221</td>\n",
       "    </tr>\n",
       "    <tr>\n",
       "      <th>65034</th>\n",
       "      <td>3000551431566</td>\n",
       "      <td>300050591214</td>\n",
       "    </tr>\n",
       "    <tr>\n",
       "      <th>23441</th>\n",
       "      <td>3000551431566</td>\n",
       "      <td>300050591217</td>\n",
       "    </tr>\n",
       "    <tr>\n",
       "      <th>...</th>\n",
       "      <td>...</td>\n",
       "      <td>...</td>\n",
       "    </tr>\n",
       "    <tr>\n",
       "      <th>334199</th>\n",
       "      <td>3000633196163</td>\n",
       "      <td>300052444785</td>\n",
       "    </tr>\n",
       "    <tr>\n",
       "      <th>40852</th>\n",
       "      <td>3000633196174</td>\n",
       "      <td>300052444792</td>\n",
       "    </tr>\n",
       "    <tr>\n",
       "      <th>222810</th>\n",
       "      <td>3000633196174</td>\n",
       "      <td>300052444798</td>\n",
       "    </tr>\n",
       "    <tr>\n",
       "      <th>132607</th>\n",
       "      <td>3000633196222</td>\n",
       "      <td>300052444836</td>\n",
       "    </tr>\n",
       "    <tr>\n",
       "      <th>154202</th>\n",
       "      <td>3000633196222</td>\n",
       "      <td>300052444837</td>\n",
       "    </tr>\n",
       "  </tbody>\n",
       "</table>\n",
       "<p>308589 rows × 2 columns</p>\n",
       "</div>"
      ],
      "text/plain": [
       "             order_gk      offer_id\n",
       "253839  3000551431560  300050591209\n",
       "215287  3000551431560  300050591208\n",
       "195130  3000551431566  300050591221\n",
       "65034   3000551431566  300050591214\n",
       "23441   3000551431566  300050591217\n",
       "...               ...           ...\n",
       "334199  3000633196163  300052444785\n",
       "40852   3000633196174  300052444792\n",
       "222810  3000633196174  300052444798\n",
       "132607  3000633196222  300052444836\n",
       "154202  3000633196222  300052444837\n",
       "\n",
       "[308589 rows x 2 columns]"
      ]
     },
     "execution_count": 19,
     "metadata": {},
     "output_type": "execute_result"
    }
   ],
   "source": [
    "data_offers[data_offers['order_gk'].duplicated(keep=False)].sort_values(['order_gk'])"
   ]
  },
  {
   "cell_type": "code",
   "execution_count": 20,
   "metadata": {},
   "outputs": [
    {
     "data": {
      "text/plain": [
       "236396"
      ]
     },
     "execution_count": 20,
     "metadata": {},
     "output_type": "execute_result"
    }
   ],
   "source": [
    "duplicated = data_offers['order_gk'].duplicated().sum()\n",
    "duplicated"
   ]
  },
  {
   "cell_type": "code",
   "execution_count": 21,
   "metadata": {},
   "outputs": [],
   "source": [
    "data_offers = data_offers.drop_duplicates(subset=['order_gk'])"
   ]
  },
  {
   "cell_type": "code",
   "execution_count": 22,
   "metadata": {},
   "outputs": [
    {
     "data": {
      "text/html": [
       "<div>\n",
       "<style scoped>\n",
       "    .dataframe tbody tr th:only-of-type {\n",
       "        vertical-align: middle;\n",
       "    }\n",
       "\n",
       "    .dataframe tbody tr th {\n",
       "        vertical-align: top;\n",
       "    }\n",
       "\n",
       "    .dataframe thead th {\n",
       "        text-align: right;\n",
       "    }\n",
       "</style>\n",
       "<table border=\"1\" class=\"dataframe\">\n",
       "  <thead>\n",
       "    <tr style=\"text-align: right;\">\n",
       "      <th></th>\n",
       "      <th>order_gk</th>\n",
       "      <th>offer_id</th>\n",
       "    </tr>\n",
       "  </thead>\n",
       "  <tbody>\n",
       "  </tbody>\n",
       "</table>\n",
       "</div>"
      ],
      "text/plain": [
       "Empty DataFrame\n",
       "Columns: [order_gk, offer_id]\n",
       "Index: []"
      ]
     },
     "execution_count": 22,
     "metadata": {},
     "output_type": "execute_result"
    }
   ],
   "source": [
    "data_offers[data_offers.order_gk.duplicated(keep=False)].sort_values(\"order_gk\")"
   ]
  },
  {
   "cell_type": "markdown",
   "metadata": {},
   "source": []
  },
  {
   "attachments": {},
   "cell_type": "markdown",
   "metadata": {},
   "source": [
    "3. Standardize and Normalize Data"
   ]
  },
  {
   "cell_type": "code",
   "execution_count": 23,
   "metadata": {},
   "outputs": [
    {
     "data": {
      "text/plain": [
       "<Axes: >"
      ]
     },
     "execution_count": 23,
     "metadata": {},
     "output_type": "execute_result"
    },
    {
     "data": {
      "image/png": "[encoded data removed]",
      "text/plain": [
       "<Figure size 640x480 with 1 Axes>"
      ]
     },
     "metadata": {},
     "output_type": "display_data"
    }
   ],
   "source": [
    "data_orders['m_order_eta'].hist(bins=6)"
   ]
  },
  {
   "cell_type": "code",
   "execution_count": 24,
   "metadata": {},
   "outputs": [],
   "source": [
    "data_orders['m_order_eta_stand'] = (data_orders['m_order_eta']-data_orders['m_order_eta'].mean())/(data_orders['m_order_eta'].std())"
   ]
  },
  {
   "cell_type": "code",
   "execution_count": 25,
   "metadata": {},
   "outputs": [
    {
     "data": {
      "text/plain": [
       "count    1.071600e+04\n",
       "mean    -4.044709e-17\n",
       "std      1.000000e+00\n",
       "min     -2.582606e+00\n",
       "25%     -7.392487e-04\n",
       "50%     -7.392487e-04\n",
       "75%     -7.392487e-04\n",
       "max      7.575446e+00\n",
       "Name: m_order_eta_stand, dtype: float64"
      ]
     },
     "execution_count": 25,
     "metadata": {},
     "output_type": "execute_result"
    }
   ],
   "source": [
    "data_orders['m_order_eta_stand'].describe()"
   ]
  },
  {
   "cell_type": "code",
   "execution_count": 26,
   "metadata": {},
   "outputs": [
    {
     "data": {
      "text/plain": [
       "<Axes: >"
      ]
     },
     "execution_count": 26,
     "metadata": {},
     "output_type": "execute_result"
    },
    {
     "data": {
      "image/png": "[encoded data removed]",
      "text/plain": [
       "<Figure size 640x480 with 1 Axes>"
      ]
     },
     "metadata": {},
     "output_type": "display_data"
    }
   ],
   "source": [
    "data_orders['m_order_eta_stand'].hist(bins=6)"
   ]
  },
  {
   "cell_type": "code",
   "execution_count": 27,
   "metadata": {},
   "outputs": [],
   "source": [
    "data_orders['m_order_eta_norm'] = (data_orders['m_order_eta']-data_orders['m_order_eta'].min())/(data_orders['m_order_eta'].max()-data_orders['m_order_eta'].min())"
   ]
  },
  {
   "cell_type": "code",
   "execution_count": 28,
   "metadata": {},
   "outputs": [
    {
     "data": {
      "text/plain": [
       "count    10716.000000\n",
       "mean         0.254242\n",
       "std          0.098444\n",
       "min          0.000000\n",
       "25%          0.254169\n",
       "50%          0.254169\n",
       "75%          0.254169\n",
       "max          1.000000\n",
       "Name: m_order_eta_norm, dtype: float64"
      ]
     },
     "execution_count": 28,
     "metadata": {},
     "output_type": "execute_result"
    }
   ],
   "source": [
    "data_orders['m_order_eta_norm'].describe()"
   ]
  },
  {
   "cell_type": "code",
   "execution_count": 29,
   "metadata": {},
   "outputs": [
    {
     "data": {
      "text/html": [
       "<div>\n",
       "<style scoped>\n",
       "    .dataframe tbody tr th:only-of-type {\n",
       "        vertical-align: middle;\n",
       "    }\n",
       "\n",
       "    .dataframe tbody tr th {\n",
       "        vertical-align: top;\n",
       "    }\n",
       "\n",
       "    .dataframe thead th {\n",
       "        text-align: right;\n",
       "    }\n",
       "</style>\n",
       "<table border=\"1\" class=\"dataframe\">\n",
       "  <thead>\n",
       "    <tr style=\"text-align: right;\">\n",
       "      <th></th>\n",
       "      <th>m_order_eta</th>\n",
       "      <th>m_order_eta_stand</th>\n",
       "      <th>m_order_eta_norm</th>\n",
       "    </tr>\n",
       "  </thead>\n",
       "  <tbody>\n",
       "    <tr>\n",
       "      <th>0</th>\n",
       "      <td>60.0</td>\n",
       "      <td>-2.582606</td>\n",
       "      <td>0.000000</td>\n",
       "    </tr>\n",
       "    <tr>\n",
       "      <th>1</th>\n",
       "      <td>441.0</td>\n",
       "      <td>-0.000739</td>\n",
       "      <td>0.254169</td>\n",
       "    </tr>\n",
       "    <tr>\n",
       "      <th>2</th>\n",
       "      <td>477.0</td>\n",
       "      <td>0.243217</td>\n",
       "      <td>0.278185</td>\n",
       "    </tr>\n",
       "    <tr>\n",
       "      <th>3</th>\n",
       "      <td>658.0</td>\n",
       "      <td>1.469773</td>\n",
       "      <td>0.398933</td>\n",
       "    </tr>\n",
       "    <tr>\n",
       "      <th>4</th>\n",
       "      <td>441.0</td>\n",
       "      <td>-0.000739</td>\n",
       "      <td>0.254169</td>\n",
       "    </tr>\n",
       "  </tbody>\n",
       "</table>\n",
       "</div>"
      ],
      "text/plain": [
       "   m_order_eta  m_order_eta_stand  m_order_eta_norm\n",
       "0         60.0          -2.582606          0.000000\n",
       "1        441.0          -0.000739          0.254169\n",
       "2        477.0           0.243217          0.278185\n",
       "3        658.0           1.469773          0.398933\n",
       "4        441.0          -0.000739          0.254169"
      ]
     },
     "execution_count": 29,
     "metadata": {},
     "output_type": "execute_result"
    }
   ],
   "source": [
    "data_orders[['m_order_eta', 'm_order_eta_stand', 'm_order_eta_norm']].head()"
   ]
  },
  {
   "cell_type": "markdown",
   "metadata": {},
   "source": []
  },
  {
   "attachments": {},
   "cell_type": "markdown",
   "metadata": {},
   "source": [
    "- **Data Manipulation**"
   ]
  },
  {
   "attachments": {},
   "cell_type": "markdown",
   "metadata": {},
   "source": [
    "1. Checking and Changing Data Type"
   ]
  },
  {
   "cell_type": "code",
   "execution_count": 30,
   "metadata": {},
   "outputs": [
    {
     "name": "stdout",
     "output_type": "stream",
     "text": [
      "<class 'pandas.core.frame.DataFrame'>\n",
      "RangeIndex: 10716 entries, 0 to 10715\n",
      "Data columns (total 10 columns):\n",
      " #   Column                         Non-Null Count  Dtype  \n",
      "---  ------                         --------------  -----  \n",
      " 0   order_datetime                 10716 non-null  object \n",
      " 1   origin_longitude               10716 non-null  float64\n",
      " 2   origin_latitude                10716 non-null  float64\n",
      " 3   m_order_eta                    10716 non-null  float64\n",
      " 4   order_gk                       10716 non-null  int64  \n",
      " 5   order_status_key               10716 non-null  int64  \n",
      " 6   is_driver_assigned_key         10716 non-null  int64  \n",
      " 7   cancellations_time_in_seconds  10716 non-null  float64\n",
      " 8   m_order_eta_stand              10716 non-null  float64\n",
      " 9   m_order_eta_norm               10716 non-null  float64\n",
      "dtypes: float64(6), int64(3), object(1)\n",
      "memory usage: 837.3+ KB\n"
     ]
    }
   ],
   "source": [
    "data_orders.info()"
   ]
  },
  {
   "cell_type": "code",
   "execution_count": 31,
   "metadata": {},
   "outputs": [],
   "source": [
    "data_orders['order_status_key'] = np.where(data_orders['order_status_key']==4, 'Client Cancelled', 'System Rejected')\n",
    "data_orders['is_driver_assigned_key'] = np.where(data_orders['is_driver_assigned_key']==1, 'Yes', 'No')"
   ]
  },
  {
   "cell_type": "code",
   "execution_count": 32,
   "metadata": {},
   "outputs": [],
   "source": [
    "data_orders['order_datetime'] = pd.to_datetime(data_orders['order_datetime'], format='%H:%M:%S').dt.time"
   ]
  },
  {
   "cell_type": "code",
   "execution_count": 33,
   "metadata": {},
   "outputs": [],
   "source": [
    "data_orders['hour'] = pd.to_datetime(data_orders['order_datetime'], format='%H:%M:%S').dt.hour"
   ]
  },
  {
   "cell_type": "code",
   "execution_count": 34,
   "metadata": {},
   "outputs": [],
   "source": [
    "data_orders['hour'] = data_orders['hour'].astype(int)"
   ]
  },
  {
   "cell_type": "code",
   "execution_count": 35,
   "metadata": {},
   "outputs": [
    {
     "name": "stdout",
     "output_type": "stream",
     "text": [
      "<class 'pandas.core.frame.DataFrame'>\n",
      "RangeIndex: 10716 entries, 0 to 10715\n",
      "Data columns (total 11 columns):\n",
      " #   Column                         Non-Null Count  Dtype  \n",
      "---  ------                         --------------  -----  \n",
      " 0   order_datetime                 10716 non-null  object \n",
      " 1   origin_longitude               10716 non-null  float64\n",
      " 2   origin_latitude                10716 non-null  float64\n",
      " 3   m_order_eta                    10716 non-null  float64\n",
      " 4   order_gk                       10716 non-null  int64  \n",
      " 5   order_status_key               10716 non-null  object \n",
      " 6   is_driver_assigned_key         10716 non-null  object \n",
      " 7   cancellations_time_in_seconds  10716 non-null  float64\n",
      " 8   m_order_eta_stand              10716 non-null  float64\n",
      " 9   m_order_eta_norm               10716 non-null  float64\n",
      " 10  hour                           10716 non-null  int32  \n",
      "dtypes: float64(6), int32(1), int64(1), object(3)\n",
      "memory usage: 879.2+ KB\n"
     ]
    }
   ],
   "source": [
    "data_orders.info()"
   ]
  },
  {
   "cell_type": "code",
   "execution_count": 36,
   "metadata": {},
   "outputs": [
    {
     "name": "stdout",
     "output_type": "stream",
     "text": [
      "<class 'pandas.core.frame.DataFrame'>\n",
      "Int64Index: 97967 entries, 0 to 334361\n",
      "Data columns (total 2 columns):\n",
      " #   Column    Non-Null Count  Dtype\n",
      "---  ------    --------------  -----\n",
      " 0   order_gk  97967 non-null  int64\n",
      " 1   offer_id  97967 non-null  int64\n",
      "dtypes: int64(2)\n",
      "memory usage: 2.2 MB\n"
     ]
    }
   ],
   "source": [
    "data_offers.info()"
   ]
  },
  {
   "cell_type": "markdown",
   "metadata": {},
   "source": []
  },
  {
   "attachments": {},
   "cell_type": "markdown",
   "metadata": {},
   "source": [
    "2. Renaming Columns"
   ]
  },
  {
   "cell_type": "code",
   "execution_count": 37,
   "metadata": {},
   "outputs": [],
   "source": [
    "data_orders = data_orders.rename(columns={'m_order_eta': 'order_eta', 'order_gk': 'order_id', 'order_status_key': 'order_status',\n",
    "                                          'is_driver_assigned_key': 'driver_assigned', 'cancellations_time_in_seconds': 'cancellations',\n",
    "                                          'origin_longitude': 'longitude', 'origin_latitude': 'latitude'})"
   ]
  },
  {
   "cell_type": "code",
   "execution_count": 38,
   "metadata": {},
   "outputs": [
    {
     "data": {
      "text/html": [
       "<div>\n",
       "<style scoped>\n",
       "    .dataframe tbody tr th:only-of-type {\n",
       "        vertical-align: middle;\n",
       "    }\n",
       "\n",
       "    .dataframe tbody tr th {\n",
       "        vertical-align: top;\n",
       "    }\n",
       "\n",
       "    .dataframe thead th {\n",
       "        text-align: right;\n",
       "    }\n",
       "</style>\n",
       "<table border=\"1\" class=\"dataframe\">\n",
       "  <thead>\n",
       "    <tr style=\"text-align: right;\">\n",
       "      <th></th>\n",
       "      <th>order_datetime</th>\n",
       "      <th>longitude</th>\n",
       "      <th>latitude</th>\n",
       "      <th>order_eta</th>\n",
       "      <th>order_id</th>\n",
       "      <th>order_status</th>\n",
       "      <th>driver_assigned</th>\n",
       "      <th>cancellations</th>\n",
       "      <th>m_order_eta_stand</th>\n",
       "      <th>m_order_eta_norm</th>\n",
       "      <th>hour</th>\n",
       "    </tr>\n",
       "  </thead>\n",
       "  <tbody>\n",
       "    <tr>\n",
       "      <th>0</th>\n",
       "      <td>18:08:07</td>\n",
       "      <td>-0.978916</td>\n",
       "      <td>51.456173</td>\n",
       "      <td>60.0</td>\n",
       "      <td>3000583041974</td>\n",
       "      <td>Client Cancelled</td>\n",
       "      <td>Yes</td>\n",
       "      <td>198.0</td>\n",
       "      <td>-2.582606</td>\n",
       "      <td>0.000000</td>\n",
       "      <td>18</td>\n",
       "    </tr>\n",
       "    <tr>\n",
       "      <th>1</th>\n",
       "      <td>20:57:32</td>\n",
       "      <td>-0.950385</td>\n",
       "      <td>51.456843</td>\n",
       "      <td>441.0</td>\n",
       "      <td>3000583116437</td>\n",
       "      <td>Client Cancelled</td>\n",
       "      <td>No</td>\n",
       "      <td>128.0</td>\n",
       "      <td>-0.000739</td>\n",
       "      <td>0.254169</td>\n",
       "      <td>20</td>\n",
       "    </tr>\n",
       "    <tr>\n",
       "      <th>2</th>\n",
       "      <td>12:07:50</td>\n",
       "      <td>-0.969520</td>\n",
       "      <td>51.455544</td>\n",
       "      <td>477.0</td>\n",
       "      <td>3000582891479</td>\n",
       "      <td>Client Cancelled</td>\n",
       "      <td>Yes</td>\n",
       "      <td>46.0</td>\n",
       "      <td>0.243217</td>\n",
       "      <td>0.278185</td>\n",
       "      <td>12</td>\n",
       "    </tr>\n",
       "    <tr>\n",
       "      <th>3</th>\n",
       "      <td>13:50:20</td>\n",
       "      <td>-1.054671</td>\n",
       "      <td>51.460544</td>\n",
       "      <td>658.0</td>\n",
       "      <td>3000582941169</td>\n",
       "      <td>Client Cancelled</td>\n",
       "      <td>Yes</td>\n",
       "      <td>62.0</td>\n",
       "      <td>1.469773</td>\n",
       "      <td>0.398933</td>\n",
       "      <td>13</td>\n",
       "    </tr>\n",
       "    <tr>\n",
       "      <th>4</th>\n",
       "      <td>21:24:45</td>\n",
       "      <td>-0.967605</td>\n",
       "      <td>51.458236</td>\n",
       "      <td>441.0</td>\n",
       "      <td>3000583140877</td>\n",
       "      <td>System Rejected</td>\n",
       "      <td>No</td>\n",
       "      <td>157.0</td>\n",
       "      <td>-0.000739</td>\n",
       "      <td>0.254169</td>\n",
       "      <td>21</td>\n",
       "    </tr>\n",
       "  </tbody>\n",
       "</table>\n",
       "</div>"
      ],
      "text/plain": [
       "  order_datetime  longitude   latitude  order_eta       order_id  \\\n",
       "0       18:08:07  -0.978916  51.456173       60.0  3000583041974   \n",
       "1       20:57:32  -0.950385  51.456843      441.0  3000583116437   \n",
       "2       12:07:50  -0.969520  51.455544      477.0  3000582891479   \n",
       "3       13:50:20  -1.054671  51.460544      658.0  3000582941169   \n",
       "4       21:24:45  -0.967605  51.458236      441.0  3000583140877   \n",
       "\n",
       "       order_status driver_assigned  cancellations  m_order_eta_stand  \\\n",
       "0  Client Cancelled             Yes          198.0          -2.582606   \n",
       "1  Client Cancelled              No          128.0          -0.000739   \n",
       "2  Client Cancelled             Yes           46.0           0.243217   \n",
       "3  Client Cancelled             Yes           62.0           1.469773   \n",
       "4   System Rejected              No          157.0          -0.000739   \n",
       "\n",
       "   m_order_eta_norm  hour  \n",
       "0          0.000000    18  \n",
       "1          0.254169    20  \n",
       "2          0.278185    12  \n",
       "3          0.398933    13  \n",
       "4          0.254169    21  "
      ]
     },
     "execution_count": 38,
     "metadata": {},
     "output_type": "execute_result"
    }
   ],
   "source": [
    "data_orders.head()"
   ]
  },
  {
   "cell_type": "code",
   "execution_count": 39,
   "metadata": {},
   "outputs": [],
   "source": [
    "data_offers = data_offers.rename(columns={'order_gk': 'order_id'})"
   ]
  },
  {
   "cell_type": "code",
   "execution_count": 40,
   "metadata": {},
   "outputs": [
    {
     "data": {
      "text/html": [
       "<div>\n",
       "<style scoped>\n",
       "    .dataframe tbody tr th:only-of-type {\n",
       "        vertical-align: middle;\n",
       "    }\n",
       "\n",
       "    .dataframe tbody tr th {\n",
       "        vertical-align: top;\n",
       "    }\n",
       "\n",
       "    .dataframe thead th {\n",
       "        text-align: right;\n",
       "    }\n",
       "</style>\n",
       "<table border=\"1\" class=\"dataframe\">\n",
       "  <thead>\n",
       "    <tr style=\"text-align: right;\">\n",
       "      <th></th>\n",
       "      <th>order_id</th>\n",
       "      <th>offer_id</th>\n",
       "    </tr>\n",
       "  </thead>\n",
       "  <tbody>\n",
       "    <tr>\n",
       "      <th>0</th>\n",
       "      <td>3000579625629</td>\n",
       "      <td>300050936206</td>\n",
       "    </tr>\n",
       "    <tr>\n",
       "      <th>1</th>\n",
       "      <td>3000627306450</td>\n",
       "      <td>300052064651</td>\n",
       "    </tr>\n",
       "    <tr>\n",
       "      <th>2</th>\n",
       "      <td>3000632920686</td>\n",
       "      <td>300052408812</td>\n",
       "    </tr>\n",
       "    <tr>\n",
       "      <th>3</th>\n",
       "      <td>3000632771725</td>\n",
       "      <td>300052393030</td>\n",
       "    </tr>\n",
       "    <tr>\n",
       "      <th>4</th>\n",
       "      <td>3000583467642</td>\n",
       "      <td>300051001196</td>\n",
       "    </tr>\n",
       "  </tbody>\n",
       "</table>\n",
       "</div>"
      ],
      "text/plain": [
       "        order_id      offer_id\n",
       "0  3000579625629  300050936206\n",
       "1  3000627306450  300052064651\n",
       "2  3000632920686  300052408812\n",
       "3  3000632771725  300052393030\n",
       "4  3000583467642  300051001196"
      ]
     },
     "execution_count": 40,
     "metadata": {},
     "output_type": "execute_result"
    }
   ],
   "source": [
    "data_offers.head()"
   ]
  },
  {
   "cell_type": "markdown",
   "metadata": {},
   "source": []
  },
  {
   "attachments": {},
   "cell_type": "markdown",
   "metadata": {},
   "source": [
    "3. Removing Data"
   ]
  },
  {
   "cell_type": "code",
   "execution_count": 41,
   "metadata": {},
   "outputs": [],
   "source": [
    "data_orders = data_orders.drop(['m_order_eta_stand', 'm_order_eta_norm'], axis=1)"
   ]
  },
  {
   "cell_type": "code",
   "execution_count": 42,
   "metadata": {},
   "outputs": [
    {
     "data": {
      "text/html": [
       "<div>\n",
       "<style scoped>\n",
       "    .dataframe tbody tr th:only-of-type {\n",
       "        vertical-align: middle;\n",
       "    }\n",
       "\n",
       "    .dataframe tbody tr th {\n",
       "        vertical-align: top;\n",
       "    }\n",
       "\n",
       "    .dataframe thead th {\n",
       "        text-align: right;\n",
       "    }\n",
       "</style>\n",
       "<table border=\"1\" class=\"dataframe\">\n",
       "  <thead>\n",
       "    <tr style=\"text-align: right;\">\n",
       "      <th></th>\n",
       "      <th>order_datetime</th>\n",
       "      <th>longitude</th>\n",
       "      <th>latitude</th>\n",
       "      <th>order_eta</th>\n",
       "      <th>order_id</th>\n",
       "      <th>order_status</th>\n",
       "      <th>driver_assigned</th>\n",
       "      <th>cancellations</th>\n",
       "      <th>hour</th>\n",
       "    </tr>\n",
       "  </thead>\n",
       "  <tbody>\n",
       "    <tr>\n",
       "      <th>0</th>\n",
       "      <td>18:08:07</td>\n",
       "      <td>-0.978916</td>\n",
       "      <td>51.456173</td>\n",
       "      <td>60.0</td>\n",
       "      <td>3000583041974</td>\n",
       "      <td>Client Cancelled</td>\n",
       "      <td>Yes</td>\n",
       "      <td>198.0</td>\n",
       "      <td>18</td>\n",
       "    </tr>\n",
       "    <tr>\n",
       "      <th>1</th>\n",
       "      <td>20:57:32</td>\n",
       "      <td>-0.950385</td>\n",
       "      <td>51.456843</td>\n",
       "      <td>441.0</td>\n",
       "      <td>3000583116437</td>\n",
       "      <td>Client Cancelled</td>\n",
       "      <td>No</td>\n",
       "      <td>128.0</td>\n",
       "      <td>20</td>\n",
       "    </tr>\n",
       "    <tr>\n",
       "      <th>2</th>\n",
       "      <td>12:07:50</td>\n",
       "      <td>-0.969520</td>\n",
       "      <td>51.455544</td>\n",
       "      <td>477.0</td>\n",
       "      <td>3000582891479</td>\n",
       "      <td>Client Cancelled</td>\n",
       "      <td>Yes</td>\n",
       "      <td>46.0</td>\n",
       "      <td>12</td>\n",
       "    </tr>\n",
       "    <tr>\n",
       "      <th>3</th>\n",
       "      <td>13:50:20</td>\n",
       "      <td>-1.054671</td>\n",
       "      <td>51.460544</td>\n",
       "      <td>658.0</td>\n",
       "      <td>3000582941169</td>\n",
       "      <td>Client Cancelled</td>\n",
       "      <td>Yes</td>\n",
       "      <td>62.0</td>\n",
       "      <td>13</td>\n",
       "    </tr>\n",
       "    <tr>\n",
       "      <th>4</th>\n",
       "      <td>21:24:45</td>\n",
       "      <td>-0.967605</td>\n",
       "      <td>51.458236</td>\n",
       "      <td>441.0</td>\n",
       "      <td>3000583140877</td>\n",
       "      <td>System Rejected</td>\n",
       "      <td>No</td>\n",
       "      <td>157.0</td>\n",
       "      <td>21</td>\n",
       "    </tr>\n",
       "  </tbody>\n",
       "</table>\n",
       "</div>"
      ],
      "text/plain": [
       "  order_datetime  longitude   latitude  order_eta       order_id  \\\n",
       "0       18:08:07  -0.978916  51.456173       60.0  3000583041974   \n",
       "1       20:57:32  -0.950385  51.456843      441.0  3000583116437   \n",
       "2       12:07:50  -0.969520  51.455544      477.0  3000582891479   \n",
       "3       13:50:20  -1.054671  51.460544      658.0  3000582941169   \n",
       "4       21:24:45  -0.967605  51.458236      441.0  3000583140877   \n",
       "\n",
       "       order_status driver_assigned  cancellations  hour  \n",
       "0  Client Cancelled             Yes          198.0    18  \n",
       "1  Client Cancelled              No          128.0    20  \n",
       "2  Client Cancelled             Yes           46.0    12  \n",
       "3  Client Cancelled             Yes           62.0    13  \n",
       "4   System Rejected              No          157.0    21  "
      ]
     },
     "execution_count": 42,
     "metadata": {},
     "output_type": "execute_result"
    }
   ],
   "source": [
    "data_orders.head()"
   ]
  },
  {
   "cell_type": "markdown",
   "metadata": {},
   "source": []
  },
  {
   "attachments": {},
   "cell_type": "markdown",
   "metadata": {},
   "source": [
    "- **Data Wrangling**"
   ]
  },
  {
   "attachments": {},
   "cell_type": "markdown",
   "metadata": {},
   "source": [
    "1. Merging"
   ]
  },
  {
   "cell_type": "code",
   "execution_count": 43,
   "metadata": {},
   "outputs": [
    {
     "data": {
      "text/html": [
       "<div>\n",
       "<style scoped>\n",
       "    .dataframe tbody tr th:only-of-type {\n",
       "        vertical-align: middle;\n",
       "    }\n",
       "\n",
       "    .dataframe tbody tr th {\n",
       "        vertical-align: top;\n",
       "    }\n",
       "\n",
       "    .dataframe thead th {\n",
       "        text-align: right;\n",
       "    }\n",
       "</style>\n",
       "<table border=\"1\" class=\"dataframe\">\n",
       "  <thead>\n",
       "    <tr style=\"text-align: right;\">\n",
       "      <th></th>\n",
       "      <th>order_datetime</th>\n",
       "      <th>longitude</th>\n",
       "      <th>latitude</th>\n",
       "      <th>order_eta</th>\n",
       "      <th>order_id</th>\n",
       "      <th>order_status</th>\n",
       "      <th>driver_assigned</th>\n",
       "      <th>cancellations</th>\n",
       "      <th>hour</th>\n",
       "      <th>offer_id</th>\n",
       "    </tr>\n",
       "  </thead>\n",
       "  <tbody>\n",
       "    <tr>\n",
       "      <th>0</th>\n",
       "      <td>18:08:07</td>\n",
       "      <td>-0.978916</td>\n",
       "      <td>51.456173</td>\n",
       "      <td>60.0</td>\n",
       "      <td>3000583041974</td>\n",
       "      <td>Client Cancelled</td>\n",
       "      <td>Yes</td>\n",
       "      <td>198.0</td>\n",
       "      <td>18</td>\n",
       "      <td>300050983403</td>\n",
       "    </tr>\n",
       "    <tr>\n",
       "      <th>1</th>\n",
       "      <td>20:57:32</td>\n",
       "      <td>-0.950385</td>\n",
       "      <td>51.456843</td>\n",
       "      <td>441.0</td>\n",
       "      <td>3000583116437</td>\n",
       "      <td>Client Cancelled</td>\n",
       "      <td>No</td>\n",
       "      <td>128.0</td>\n",
       "      <td>20</td>\n",
       "      <td>300050986179</td>\n",
       "    </tr>\n",
       "    <tr>\n",
       "      <th>2</th>\n",
       "      <td>12:07:50</td>\n",
       "      <td>-0.969520</td>\n",
       "      <td>51.455544</td>\n",
       "      <td>477.0</td>\n",
       "      <td>3000582891479</td>\n",
       "      <td>Client Cancelled</td>\n",
       "      <td>Yes</td>\n",
       "      <td>46.0</td>\n",
       "      <td>12</td>\n",
       "      <td>300050976275</td>\n",
       "    </tr>\n",
       "    <tr>\n",
       "      <th>3</th>\n",
       "      <td>13:50:20</td>\n",
       "      <td>-1.054671</td>\n",
       "      <td>51.460544</td>\n",
       "      <td>658.0</td>\n",
       "      <td>3000582941169</td>\n",
       "      <td>Client Cancelled</td>\n",
       "      <td>Yes</td>\n",
       "      <td>62.0</td>\n",
       "      <td>13</td>\n",
       "      <td>300050977907</td>\n",
       "    </tr>\n",
       "    <tr>\n",
       "      <th>4</th>\n",
       "      <td>21:21:23</td>\n",
       "      <td>-0.947011</td>\n",
       "      <td>51.456380</td>\n",
       "      <td>441.0</td>\n",
       "      <td>3000583117054</td>\n",
       "      <td>System Rejected</td>\n",
       "      <td>No</td>\n",
       "      <td>157.0</td>\n",
       "      <td>21</td>\n",
       "      <td>300050986706</td>\n",
       "    </tr>\n",
       "  </tbody>\n",
       "</table>\n",
       "</div>"
      ],
      "text/plain": [
       "  order_datetime  longitude   latitude  order_eta       order_id  \\\n",
       "0       18:08:07  -0.978916  51.456173       60.0  3000583041974   \n",
       "1       20:57:32  -0.950385  51.456843      441.0  3000583116437   \n",
       "2       12:07:50  -0.969520  51.455544      477.0  3000582891479   \n",
       "3       13:50:20  -1.054671  51.460544      658.0  3000582941169   \n",
       "4       21:21:23  -0.947011  51.456380      441.0  3000583117054   \n",
       "\n",
       "       order_status driver_assigned  cancellations  hour      offer_id  \n",
       "0  Client Cancelled             Yes          198.0    18  300050983403  \n",
       "1  Client Cancelled              No          128.0    20  300050986179  \n",
       "2  Client Cancelled             Yes           46.0    12  300050976275  \n",
       "3  Client Cancelled             Yes           62.0    13  300050977907  \n",
       "4   System Rejected              No          157.0    21  300050986706  "
      ]
     },
     "execution_count": 43,
     "metadata": {},
     "output_type": "execute_result"
    }
   ],
   "source": [
    "data = data_orders.merge(data_offers, on='order_id')\n",
    "data.head()"
   ]
  },
  {
   "cell_type": "code",
   "execution_count": 44,
   "metadata": {},
   "outputs": [
    {
     "name": "stdout",
     "output_type": "stream",
     "text": [
      "<class 'pandas.core.frame.DataFrame'>\n",
      "Int64Index: 7610 entries, 0 to 7609\n",
      "Data columns (total 10 columns):\n",
      " #   Column           Non-Null Count  Dtype  \n",
      "---  ------           --------------  -----  \n",
      " 0   order_datetime   7610 non-null   object \n",
      " 1   longitude        7610 non-null   float64\n",
      " 2   latitude         7610 non-null   float64\n",
      " 3   order_eta        7610 non-null   float64\n",
      " 4   order_id         7610 non-null   int64  \n",
      " 5   order_status     7610 non-null   object \n",
      " 6   driver_assigned  7610 non-null   object \n",
      " 7   cancellations    7610 non-null   float64\n",
      " 8   hour             7610 non-null   int32  \n",
      " 9   offer_id         7610 non-null   int64  \n",
      "dtypes: float64(4), int32(1), int64(2), object(3)\n",
      "memory usage: 624.3+ KB\n"
     ]
    }
   ],
   "source": [
    "data.info()"
   ]
  },
  {
   "cell_type": "markdown",
   "metadata": {},
   "source": []
  },
  {
   "attachments": {},
   "cell_type": "markdown",
   "metadata": {},
   "source": [
    "**EXPLORATORY DATA ANALYSIS**"
   ]
  },
  {
   "attachments": {},
   "cell_type": "markdown",
   "metadata": {},
   "source": [
    "1. Build up distribution of orders according to reasons for failure: cancellations before and after driver assignment, and reasons for order rejection. Analyse the resulting plot. Which category has the highest number of orders?"
   ]
  },
  {
   "cell_type": "code",
   "execution_count": 45,
   "metadata": {},
   "outputs": [
    {
     "data": {
      "text/plain": [
       "driver_assigned  order_status    \n",
       "No               Client Cancelled    3367\n",
       "                 System Rejected     1903\n",
       "Yes              Client Cancelled    2338\n",
       "                 System Rejected        2\n",
       "Name: order_id, dtype: int64"
      ]
     },
     "execution_count": 45,
     "metadata": {},
     "output_type": "execute_result"
    }
   ],
   "source": [
    "driver_assigned = data.groupby(['driver_assigned', 'order_status'])['order_id'].count()\n",
    "driver_assigned"
   ]
  },
  {
   "cell_type": "code",
   "execution_count": 46,
   "metadata": {},
   "outputs": [
    {
     "data": {
      "text/plain": [
       "<Axes: title={'center': 'Distribution of Orders Accordig to Reasons for Failure'}, ylabel='Number of Order'>"
      ]
     },
     "execution_count": 46,
     "metadata": {},
     "output_type": "execute_result"
    },
    {
     "data": {
      "image/png": "[encoded data removed]",
      "text/plain": [
       "<Figure size 640x480 with 1 Axes>"
      ]
     },
     "metadata": {},
     "output_type": "display_data"
    }
   ],
   "source": [
    "driver_assigned.plot(kind='barh', legend=True, subplots=False,\n",
    "                    ylabel='Number of Order', title='Distribution of Orders Accordig to Reasons for Failure')"
   ]
  },
  {
   "attachments": {},
   "cell_type": "markdown",
   "metadata": {},
   "source": [
    "**Interpretation**\n",
    "\n",
    "1. When drivers are not assigned, order failures due to client cancellations amounted to 3367 orders.\n",
    "2. When the driver is not assigned, the order failure is due to a system error of 1903 orders.\n",
    "3. When the driver is assigned, the order failure due to cancel from the client is 2338 orders\n",
    "4. When the driver is assigned, the order failure due to system error is 2 orders."
   ]
  },
  {
   "cell_type": "code",
   "execution_count": 47,
   "metadata": {},
   "outputs": [
    {
     "data": {
      "image/png": "[encoded data removed]",
      "text/plain": [
       "<Figure size 640x480 with 1 Axes>"
      ]
     },
     "metadata": {},
     "output_type": "display_data"
    }
   ],
   "source": [
    "fig, ax = plt.subplots()\n",
    "ax.pie(driver_assigned, labels=driver_assigned.index, autopct='%1.1f%%')\n",
    "plt.show()\n"
   ]
  },
  {
   "cell_type": "markdown",
   "metadata": {},
   "source": []
  },
  {
   "attachments": {},
   "cell_type": "markdown",
   "metadata": {},
   "source": [
    "2. Plot the distribution of failed orders by hours. Is there a trend that certain hours have an abnormally high proportion of one category or another? What hours are the biggest fails? How can this be explained?"
   ]
  },
  {
   "cell_type": "code",
   "execution_count": 48,
   "metadata": {},
   "outputs": [
    {
     "data": {
      "text/plain": [
       "hour\n",
       "8     837\n",
       "21    668\n",
       "23    542\n",
       "22    448\n",
       "0     440\n",
       "2     402\n",
       "3     398\n",
       "7     381\n",
       "17    343\n",
       "20    335\n",
       "15    333\n",
       "9     325\n",
       "1     308\n",
       "13    280\n",
       "18    263\n",
       "16    222\n",
       "14    188\n",
       "12    186\n",
       "19    181\n",
       "11    151\n",
       "10    126\n",
       "6     122\n",
       "4      87\n",
       "5      44\n",
       "Name: order_id, dtype: int64"
      ]
     },
     "execution_count": 48,
     "metadata": {},
     "output_type": "execute_result"
    }
   ],
   "source": [
    "hour = data.groupby('hour')['order_id'].count().sort_values(ascending=False)\n",
    "hour"
   ]
  },
  {
   "cell_type": "code",
   "execution_count": 49,
   "metadata": {},
   "outputs": [
    {
     "data": {
      "image/png": "[encoded data removed]",
      "text/plain": [
       "<Figure size 640x480 with 1 Axes>"
      ]
     },
     "metadata": {},
     "output_type": "display_data"
    }
   ],
   "source": [
    "sns.lineplot(x=hour.index, y=hour.values)\n",
    "plt.ylabel('Number of Cancellation Orders')\n",
    "plt.title('Distribution of Failed Orders by Hours')\n",
    "plt.show()"
   ]
  },
  {
   "attachments": {},
   "cell_type": "markdown",
   "metadata": {},
   "source": [
    "**Interpretation**\n",
    "\n",
    "1. The largest order failure is at 8am with 837 orders, this may be due to high demand traffic so not all drivers can pick up all orders.\n",
    "2. The least number of order failures is at 5 am, it can be assumed that at that time the demand by customers is not too much, so the driver can accept the order."
   ]
  },
  {
   "cell_type": "markdown",
   "metadata": {},
   "source": []
  },
  {
   "attachments": {},
   "cell_type": "markdown",
   "metadata": {},
   "source": [
    "3. Plot the average time to cancellation with and without driver, by the hour. If there are any outliers in the data, it would be better to remove them. Can we draw any conclusions from this plot?"
   ]
  },
  {
   "attachments": {},
   "cell_type": "markdown",
   "metadata": {},
   "source": [
    "- **Handling Outlier**"
   ]
  },
  {
   "attachments": {},
   "cell_type": "markdown",
   "metadata": {},
   "source": [
    "1. Deteksi Outlier"
   ]
  },
  {
   "cell_type": "code",
   "execution_count": 50,
   "metadata": {},
   "outputs": [
    {
     "data": {
      "image/png": "[encoded data removed]",
      "text/plain": [
       "<Figure size 640x480 with 1 Axes>"
      ]
     },
     "metadata": {},
     "output_type": "display_data"
    }
   ],
   "source": [
    "data['cancellations'].plot(kind='box', subplots=True, layout=(1, 1), sharex=False, sharey=False)\n",
    "plt.show()"
   ]
  },
  {
   "cell_type": "code",
   "execution_count": 51,
   "metadata": {},
   "outputs": [
    {
     "name": "stdout",
     "output_type": "stream",
     "text": [
      "11      316.0\n",
      "15      475.0\n",
      "21      527.0\n",
      "30      418.0\n",
      "34      593.0\n",
      "        ...  \n",
      "7572    461.0\n",
      "7586    481.0\n",
      "7593    501.0\n",
      "7595    388.0\n",
      "7600    833.0\n",
      "Name: cancellations, Length: 591, dtype: float64\n"
     ]
    }
   ],
   "source": [
    "Q1 = data['cancellations'].quantile(0.25)\n",
    "Q3 = data['cancellations'].quantile(0.75)\n",
    "\n",
    "IQR = Q3 - Q1\n",
    "\n",
    "detection = Q3 + 1.5 * IQR\n",
    "\n",
    "outlier = data['cancellations'][(data['cancellations'] > detection)]\n",
    "print(outlier)"
   ]
  },
  {
   "cell_type": "code",
   "execution_count": 52,
   "metadata": {},
   "outputs": [
    {
     "name": "stdout",
     "output_type": "stream",
     "text": [
      "     order_datetime  longitude   latitude  order_eta       order_id  \\\n",
      "0          18:08:07  -0.978916  51.456173       60.0  3000583041974   \n",
      "1          20:57:32  -0.950385  51.456843      441.0  3000583116437   \n",
      "2          12:07:50  -0.969520  51.455544      477.0  3000582891479   \n",
      "3          13:50:20  -1.054671  51.460544      658.0  3000582941169   \n",
      "4          21:21:23  -0.947011  51.456380      441.0  3000583117054   \n",
      "...             ...        ...        ...        ...            ...   \n",
      "7605       12:44:11  -0.975372  51.457846      441.0  3000597886155   \n",
      "7606       12:42:52  -0.975372  51.457846      441.0  3000597886140   \n",
      "7607       13:11:35  -0.975372  51.457846      441.0  3000599186906   \n",
      "7608       13:17:21  -0.972926  51.457693       60.0  3000599187034   \n",
      "7609       11:49:35  -0.974738  51.458180      177.0  3000592871241   \n",
      "\n",
      "          order_status driver_assigned  cancellations  hour      offer_id  \n",
      "0     Client Cancelled             Yes          198.0    18  300050983403  \n",
      "1     Client Cancelled              No          128.0    20  300050986179  \n",
      "2     Client Cancelled             Yes           46.0    12  300050976275  \n",
      "3     Client Cancelled             Yes           62.0    13  300050977907  \n",
      "4      System Rejected              No          157.0    21  300050986706  \n",
      "...                ...             ...            ...   ...           ...  \n",
      "7605  Client Cancelled              No           43.0    12  300051590196  \n",
      "7606  Client Cancelled              No           44.0    12  300051590176  \n",
      "7607  Client Cancelled              No           36.0    13  300051648809  \n",
      "7608  Client Cancelled             Yes           34.0    13  300051648910  \n",
      "7609  Client Cancelled             Yes           40.0    11  300051391527  \n",
      "\n",
      "[7019 rows x 10 columns]\n"
     ]
    }
   ],
   "source": [
    "data = data.drop(outlier.index)\n",
    "print(data)"
   ]
  },
  {
   "cell_type": "code",
   "execution_count": 53,
   "metadata": {},
   "outputs": [
    {
     "name": "stdout",
     "output_type": "stream",
     "text": [
      "<class 'pandas.core.frame.DataFrame'>\n",
      "Int64Index: 7019 entries, 0 to 7609\n",
      "Data columns (total 10 columns):\n",
      " #   Column           Non-Null Count  Dtype  \n",
      "---  ------           --------------  -----  \n",
      " 0   order_datetime   7019 non-null   object \n",
      " 1   longitude        7019 non-null   float64\n",
      " 2   latitude         7019 non-null   float64\n",
      " 3   order_eta        7019 non-null   float64\n",
      " 4   order_id         7019 non-null   int64  \n",
      " 5   order_status     7019 non-null   object \n",
      " 6   driver_assigned  7019 non-null   object \n",
      " 7   cancellations    7019 non-null   float64\n",
      " 8   hour             7019 non-null   int32  \n",
      " 9   offer_id         7019 non-null   int64  \n",
      "dtypes: float64(4), int32(1), int64(2), object(3)\n",
      "memory usage: 575.8+ KB\n"
     ]
    }
   ],
   "source": [
    "data.info()"
   ]
  },
  {
   "cell_type": "code",
   "execution_count": 54,
   "metadata": {},
   "outputs": [
    {
     "data": {
      "text/html": [
       "<div>\n",
       "<style scoped>\n",
       "    .dataframe tbody tr th:only-of-type {\n",
       "        vertical-align: middle;\n",
       "    }\n",
       "\n",
       "    .dataframe tbody tr th {\n",
       "        vertical-align: top;\n",
       "    }\n",
       "\n",
       "    .dataframe thead th {\n",
       "        text-align: right;\n",
       "    }\n",
       "</style>\n",
       "<table border=\"1\" class=\"dataframe\">\n",
       "  <thead>\n",
       "    <tr style=\"text-align: right;\">\n",
       "      <th></th>\n",
       "      <th>hour</th>\n",
       "      <th>driver_assigned</th>\n",
       "      <th>cancellations</th>\n",
       "    </tr>\n",
       "  </thead>\n",
       "  <tbody>\n",
       "    <tr>\n",
       "      <th>0</th>\n",
       "      <td>0</td>\n",
       "      <td>No</td>\n",
       "      <td>115.962536</td>\n",
       "    </tr>\n",
       "    <tr>\n",
       "      <th>1</th>\n",
       "      <td>0</td>\n",
       "      <td>Yes</td>\n",
       "      <td>125.089552</td>\n",
       "    </tr>\n",
       "    <tr>\n",
       "      <th>2</th>\n",
       "      <td>1</td>\n",
       "      <td>No</td>\n",
       "      <td>112.293103</td>\n",
       "    </tr>\n",
       "    <tr>\n",
       "      <th>3</th>\n",
       "      <td>1</td>\n",
       "      <td>Yes</td>\n",
       "      <td>99.148148</td>\n",
       "    </tr>\n",
       "    <tr>\n",
       "      <th>4</th>\n",
       "      <td>2</td>\n",
       "      <td>No</td>\n",
       "      <td>130.932722</td>\n",
       "    </tr>\n",
       "    <tr>\n",
       "      <th>5</th>\n",
       "      <td>2</td>\n",
       "      <td>Yes</td>\n",
       "      <td>117.468085</td>\n",
       "    </tr>\n",
       "    <tr>\n",
       "      <th>6</th>\n",
       "      <td>3</td>\n",
       "      <td>No</td>\n",
       "      <td>130.309524</td>\n",
       "    </tr>\n",
       "    <tr>\n",
       "      <th>7</th>\n",
       "      <td>3</td>\n",
       "      <td>Yes</td>\n",
       "      <td>88.650000</td>\n",
       "    </tr>\n",
       "    <tr>\n",
       "      <th>8</th>\n",
       "      <td>4</td>\n",
       "      <td>No</td>\n",
       "      <td>110.944444</td>\n",
       "    </tr>\n",
       "    <tr>\n",
       "      <th>9</th>\n",
       "      <td>4</td>\n",
       "      <td>Yes</td>\n",
       "      <td>88.880000</td>\n",
       "    </tr>\n",
       "    <tr>\n",
       "      <th>10</th>\n",
       "      <td>5</td>\n",
       "      <td>No</td>\n",
       "      <td>132.260870</td>\n",
       "    </tr>\n",
       "    <tr>\n",
       "      <th>11</th>\n",
       "      <td>5</td>\n",
       "      <td>Yes</td>\n",
       "      <td>92.529412</td>\n",
       "    </tr>\n",
       "    <tr>\n",
       "      <th>12</th>\n",
       "      <td>6</td>\n",
       "      <td>No</td>\n",
       "      <td>122.410959</td>\n",
       "    </tr>\n",
       "    <tr>\n",
       "      <th>13</th>\n",
       "      <td>6</td>\n",
       "      <td>Yes</td>\n",
       "      <td>82.138889</td>\n",
       "    </tr>\n",
       "    <tr>\n",
       "      <th>14</th>\n",
       "      <td>7</td>\n",
       "      <td>No</td>\n",
       "      <td>130.537118</td>\n",
       "    </tr>\n",
       "    <tr>\n",
       "      <th>15</th>\n",
       "      <td>7</td>\n",
       "      <td>Yes</td>\n",
       "      <td>104.474576</td>\n",
       "    </tr>\n",
       "    <tr>\n",
       "      <th>16</th>\n",
       "      <td>8</td>\n",
       "      <td>No</td>\n",
       "      <td>127.175958</td>\n",
       "    </tr>\n",
       "    <tr>\n",
       "      <th>17</th>\n",
       "      <td>8</td>\n",
       "      <td>Yes</td>\n",
       "      <td>102.093750</td>\n",
       "    </tr>\n",
       "    <tr>\n",
       "      <th>18</th>\n",
       "      <td>9</td>\n",
       "      <td>No</td>\n",
       "      <td>123.140449</td>\n",
       "    </tr>\n",
       "    <tr>\n",
       "      <th>19</th>\n",
       "      <td>9</td>\n",
       "      <td>Yes</td>\n",
       "      <td>100.812500</td>\n",
       "    </tr>\n",
       "    <tr>\n",
       "      <th>20</th>\n",
       "      <td>10</td>\n",
       "      <td>No</td>\n",
       "      <td>79.627451</td>\n",
       "    </tr>\n",
       "    <tr>\n",
       "      <th>21</th>\n",
       "      <td>10</td>\n",
       "      <td>Yes</td>\n",
       "      <td>97.133333</td>\n",
       "    </tr>\n",
       "    <tr>\n",
       "      <th>22</th>\n",
       "      <td>11</td>\n",
       "      <td>No</td>\n",
       "      <td>91.661290</td>\n",
       "    </tr>\n",
       "    <tr>\n",
       "      <th>23</th>\n",
       "      <td>11</td>\n",
       "      <td>Yes</td>\n",
       "      <td>115.089552</td>\n",
       "    </tr>\n",
       "    <tr>\n",
       "      <th>24</th>\n",
       "      <td>12</td>\n",
       "      <td>No</td>\n",
       "      <td>99.960396</td>\n",
       "    </tr>\n",
       "    <tr>\n",
       "      <th>25</th>\n",
       "      <td>12</td>\n",
       "      <td>Yes</td>\n",
       "      <td>87.193548</td>\n",
       "    </tr>\n",
       "    <tr>\n",
       "      <th>26</th>\n",
       "      <td>13</td>\n",
       "      <td>No</td>\n",
       "      <td>115.146893</td>\n",
       "    </tr>\n",
       "    <tr>\n",
       "      <th>27</th>\n",
       "      <td>13</td>\n",
       "      <td>Yes</td>\n",
       "      <td>87.493506</td>\n",
       "    </tr>\n",
       "    <tr>\n",
       "      <th>28</th>\n",
       "      <td>14</td>\n",
       "      <td>No</td>\n",
       "      <td>94.411765</td>\n",
       "    </tr>\n",
       "    <tr>\n",
       "      <th>29</th>\n",
       "      <td>14</td>\n",
       "      <td>Yes</td>\n",
       "      <td>96.500000</td>\n",
       "    </tr>\n",
       "    <tr>\n",
       "      <th>30</th>\n",
       "      <td>15</td>\n",
       "      <td>No</td>\n",
       "      <td>111.357843</td>\n",
       "    </tr>\n",
       "    <tr>\n",
       "      <th>31</th>\n",
       "      <td>15</td>\n",
       "      <td>Yes</td>\n",
       "      <td>108.126214</td>\n",
       "    </tr>\n",
       "    <tr>\n",
       "      <th>32</th>\n",
       "      <td>16</td>\n",
       "      <td>No</td>\n",
       "      <td>91.026087</td>\n",
       "    </tr>\n",
       "    <tr>\n",
       "      <th>33</th>\n",
       "      <td>16</td>\n",
       "      <td>Yes</td>\n",
       "      <td>87.604938</td>\n",
       "    </tr>\n",
       "    <tr>\n",
       "      <th>34</th>\n",
       "      <td>17</td>\n",
       "      <td>No</td>\n",
       "      <td>101.550926</td>\n",
       "    </tr>\n",
       "    <tr>\n",
       "      <th>35</th>\n",
       "      <td>17</td>\n",
       "      <td>Yes</td>\n",
       "      <td>94.442105</td>\n",
       "    </tr>\n",
       "    <tr>\n",
       "      <th>36</th>\n",
       "      <td>18</td>\n",
       "      <td>No</td>\n",
       "      <td>96.597484</td>\n",
       "    </tr>\n",
       "    <tr>\n",
       "      <th>37</th>\n",
       "      <td>18</td>\n",
       "      <td>Yes</td>\n",
       "      <td>93.233766</td>\n",
       "    </tr>\n",
       "    <tr>\n",
       "      <th>38</th>\n",
       "      <td>19</td>\n",
       "      <td>No</td>\n",
       "      <td>82.452381</td>\n",
       "    </tr>\n",
       "    <tr>\n",
       "      <th>39</th>\n",
       "      <td>19</td>\n",
       "      <td>Yes</td>\n",
       "      <td>95.000000</td>\n",
       "    </tr>\n",
       "    <tr>\n",
       "      <th>40</th>\n",
       "      <td>20</td>\n",
       "      <td>No</td>\n",
       "      <td>113.974576</td>\n",
       "    </tr>\n",
       "    <tr>\n",
       "      <th>41</th>\n",
       "      <td>20</td>\n",
       "      <td>Yes</td>\n",
       "      <td>86.486111</td>\n",
       "    </tr>\n",
       "    <tr>\n",
       "      <th>42</th>\n",
       "      <td>21</td>\n",
       "      <td>No</td>\n",
       "      <td>127.752166</td>\n",
       "    </tr>\n",
       "    <tr>\n",
       "      <th>43</th>\n",
       "      <td>21</td>\n",
       "      <td>Yes</td>\n",
       "      <td>98.562500</td>\n",
       "    </tr>\n",
       "    <tr>\n",
       "      <th>44</th>\n",
       "      <td>22</td>\n",
       "      <td>No</td>\n",
       "      <td>108.362832</td>\n",
       "    </tr>\n",
       "    <tr>\n",
       "      <th>45</th>\n",
       "      <td>22</td>\n",
       "      <td>Yes</td>\n",
       "      <td>97.481481</td>\n",
       "    </tr>\n",
       "    <tr>\n",
       "      <th>46</th>\n",
       "      <td>23</td>\n",
       "      <td>No</td>\n",
       "      <td>116.281991</td>\n",
       "    </tr>\n",
       "    <tr>\n",
       "      <th>47</th>\n",
       "      <td>23</td>\n",
       "      <td>Yes</td>\n",
       "      <td>97.555556</td>\n",
       "    </tr>\n",
       "  </tbody>\n",
       "</table>\n",
       "</div>"
      ],
      "text/plain": [
       "    hour driver_assigned  cancellations\n",
       "0      0              No     115.962536\n",
       "1      0             Yes     125.089552\n",
       "2      1              No     112.293103\n",
       "3      1             Yes      99.148148\n",
       "4      2              No     130.932722\n",
       "5      2             Yes     117.468085\n",
       "6      3              No     130.309524\n",
       "7      3             Yes      88.650000\n",
       "8      4              No     110.944444\n",
       "9      4             Yes      88.880000\n",
       "10     5              No     132.260870\n",
       "11     5             Yes      92.529412\n",
       "12     6              No     122.410959\n",
       "13     6             Yes      82.138889\n",
       "14     7              No     130.537118\n",
       "15     7             Yes     104.474576\n",
       "16     8              No     127.175958\n",
       "17     8             Yes     102.093750\n",
       "18     9              No     123.140449\n",
       "19     9             Yes     100.812500\n",
       "20    10              No      79.627451\n",
       "21    10             Yes      97.133333\n",
       "22    11              No      91.661290\n",
       "23    11             Yes     115.089552\n",
       "24    12              No      99.960396\n",
       "25    12             Yes      87.193548\n",
       "26    13              No     115.146893\n",
       "27    13             Yes      87.493506\n",
       "28    14              No      94.411765\n",
       "29    14             Yes      96.500000\n",
       "30    15              No     111.357843\n",
       "31    15             Yes     108.126214\n",
       "32    16              No      91.026087\n",
       "33    16             Yes      87.604938\n",
       "34    17              No     101.550926\n",
       "35    17             Yes      94.442105\n",
       "36    18              No      96.597484\n",
       "37    18             Yes      93.233766\n",
       "38    19              No      82.452381\n",
       "39    19             Yes      95.000000\n",
       "40    20              No     113.974576\n",
       "41    20             Yes      86.486111\n",
       "42    21              No     127.752166\n",
       "43    21             Yes      98.562500\n",
       "44    22              No     108.362832\n",
       "45    22             Yes      97.481481\n",
       "46    23              No     116.281991\n",
       "47    23             Yes      97.555556"
      ]
     },
     "execution_count": 54,
     "metadata": {},
     "output_type": "execute_result"
    }
   ],
   "source": [
    "data.groupby(['hour', 'driver_assigned'])['cancellations'].mean().reset_index()"
   ]
  },
  {
   "cell_type": "code",
   "execution_count": 55,
   "metadata": {},
   "outputs": [
    {
     "data": {
      "image/png": "[encoded data removed]",
      "text/plain": [
       "<Figure size 640x480 with 1 Axes>"
      ]
     },
     "metadata": {},
     "output_type": "display_data"
    }
   ],
   "source": [
    "sns.lineplot(x='hour', y='cancellations', hue='driver_assigned', data=data)\n",
    "plt.ylabel('Average Cancellations')\n",
    "plt.title('Average Time to Cancellation With and Without Driver, by the Hour')\n",
    "plt.show()"
   ]
  },
  {
   "attachments": {},
   "cell_type": "markdown",
   "metadata": {},
   "source": [
    "**Interpretation**\n",
    "\n",
    "The average failed orders due to unassigned drivers is higher than the average failed orders due to assigned drivers. It can be concluded that more failed orders are caused by unassigned drivers, so that when a customer orders a taxi, there are not many available drivers, and the available drivers may have already gotten the order first. "
   ]
  },
  {
   "cell_type": "markdown",
   "metadata": {},
   "source": []
  },
  {
   "attachments": {},
   "cell_type": "markdown",
   "metadata": {},
   "source": [
    "4. Plot the distribution of average ETA by hours. How can this plot be explained?"
   ]
  },
  {
   "cell_type": "code",
   "execution_count": 56,
   "metadata": {},
   "outputs": [
    {
     "data": {
      "text/plain": [
       "hour\n",
       "7     498.749280\n",
       "8     497.392231\n",
       "9     472.479310\n",
       "12    452.184049\n",
       "17    451.610932\n",
       "15    449.231270\n",
       "6     438.394495\n",
       "16    438.132653\n",
       "3     434.263298\n",
       "21    430.822153\n",
       "2     429.545455\n",
       "23    428.206759\n",
       "18    427.627119\n",
       "5     425.400000\n",
       "0     424.009662\n",
       "22    422.571429\n",
       "14    422.500000\n",
       "13    420.488189\n",
       "1     420.195804\n",
       "19    411.641509\n",
       "11    403.612403\n",
       "20    403.444805\n",
       "10    401.981982\n",
       "4     369.696203\n",
       "Name: order_eta, dtype: float64"
      ]
     },
     "execution_count": 56,
     "metadata": {},
     "output_type": "execute_result"
    }
   ],
   "source": [
    "eta = data.groupby('hour')['order_eta'].mean().sort_values(ascending=False)\n",
    "eta"
   ]
  },
  {
   "cell_type": "code",
   "execution_count": 57,
   "metadata": {},
   "outputs": [
    {
     "data": {
      "text/plain": [
       "<Axes: xlabel='hour'>"
      ]
     },
     "execution_count": 57,
     "metadata": {},
     "output_type": "execute_result"
    },
    {
     "data": {
      "image/png": "[encoded data removed]",
      "text/plain": [
       "<Figure size 640x480 with 1 Axes>"
      ]
     },
     "metadata": {},
     "output_type": "display_data"
    }
   ],
   "source": [
    "sns.lineplot(x=eta.index, y=eta.values)"
   ]
  },
  {
   "attachments": {},
   "cell_type": "markdown",
   "metadata": {},
   "source": [
    "**Interpretation**\n",
    "\n",
    "The average ETA (which is the total time that orders have not arrived) per hour. It can be concluded that the distribution of time when orders have not arrived is highest at 7 am and the average time for orders that have not arrived is lowest at 4 am."
   ]
  },
  {
   "cell_type": "markdown",
   "metadata": {},
   "source": []
  },
  {
   "cell_type": "markdown",
   "metadata": {},
   "source": [
    "**Insight and Recommendation**"
   ]
  },
  {
   "attachments": {},
   "cell_type": "markdown",
   "metadata": {},
   "source": [
    "**Insight**"
   ]
  },
  {
   "attachments": {},
   "cell_type": "markdown",
   "metadata": {},
   "source": [
    "Based on the results of the analysis, it can be concluded that:\n",
    "\n",
    "1. When drivers are not assigned, order failures due to client cancellations amounted to 3367 orders. When the driver is not assigned, the order failure is due to a system error of 1903 orders. When the driver is assigned, the order failure due to cancel from the client is 2338 orders. When the driver is assigned, the order failure due to system error is 2 orders.\n",
    "\n",
    "2. The largest order failure was at 8 am with 837 orders, this may be due to high demand traffic so that not all drivers can take all orders and the least order failure was at 5 am, it can be assumed that at that time the demand by customers is not too much, so the driver can accept the order.\n",
    "\n",
    "3. The average failed orders due to unassigned drivers is higher than the average failed orders due to assigned drivers. It can be concluded that more failed orders are caused by unassigned drivers, this can happen, so that when a customer orders a taxi, there are not many available drivers, and the available drivers may have already gotten the order first. \n",
    "\n",
    "4. the average ETA (which is the total time that orders have not arrived) per hour. it can be concluded that the distribution of time when orders have not arrived is highest at 7 am and the average time for orders that have not arrived is lowest at 4 am."
   ]
  },
  {
   "attachments": {},
   "cell_type": "markdown",
   "metadata": {},
   "source": [
    "**Recommendation**"
   ]
  },
  {
   "attachments": {},
   "cell_type": "markdown",
   "metadata": {},
   "source": [
    "To be able to anticipate future order failures,\n",
    "\n",
    "1. The company can arrange for more drivers to be assigned during peak hours or perhaps increase the number of drivers assigned, so that customer demand for the service provided can run according to the demand for the service.\n",
    "\n",
    "2. Then the company also needs to fix errors in the system that can cause order failures due to this, by improving the quality of the service system so that the service can run well and the customer is satisfied with the service provided.\n",
    "\n",
    "3. And the company must prioritize peak hours where during these hours, the demand for services from customers is high."
   ]
  }
 ],
 "metadata": {
  "celltoolbar": "Slideshow",
  "kernelspec": {
   "display_name": "Python 3 (ipykernel)",
   "language": "python",
   "name": "python3"
  },
  "language_info": {
   "codemirror_mode": {
    "name": "ipython",
    "version": 3
   },
   "file_extension": ".py",
   "mimetype": "text/x-python",
   "name": "python",
   "nbconvert_exporter": "python",
   "pygments_lexer": "ipython3",
   "version": "3.11.1"
  }
 },
 "nbformat": 4,
 "nbformat_minor": 2
}

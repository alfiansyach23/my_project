{
  "nbformat": 4,
  "nbformat_minor": 0,
  "metadata": {
    "kernelspec": {
      "display_name": "Python 3",
      "language": "python",
      "name": "python3"
    },
    "language_info": {
      "codemirror_mode": {
        "name": "ipython",
        "version": 3
      },
      "file_extension": ".py",
      "mimetype": "text/x-python",
      "name": "python",
      "nbconvert_exporter": "python",
      "pygments_lexer": "ipython3",
      "version": "3.6.4"
    },
    "colab": {
      "provenance": []
    }
  },
  "cells": [
    {
      "cell_type": "markdown",
      "source": [
        "# Breakoutroom Meet 4 - Function Lambda"
      ],
      "metadata": {
        "id": "3DLBkBYA-P-V"
      }
    },
    {
      "cell_type": "markdown",
      "metadata": {
        "id": "AwAZfPYNkyEx"
      },
      "source": [
        "1. Indeks Massa Tubuh (IMT) digunakan untuk menentukan kategori berat badan dengan membandingkan berat dan tinggi badan. Perhitungan IMT dapat dilakukan dengan kalkulator berat badan ideal yaitu : \\\\\n",
        "$\\text{IMT} = \\dfrac{\\text{Berat Badan}}{\\left(\\text{Tinggi Badan}\\right)^2}$ \\\\\n",
        "Dimana **Berat Badan** dalam **(Kg)** dan **Tinggi Badan** dalam **(meter)**. Untuk populasi Asia, termasuk Indonesia, pengelompokan IMT adalah sebagai berikut : \\\\\n",
        "* **Obesitas** = $\\text{IMT} \\geq 25$\n",
        "* **Overweight** = $23 \\leq \\text{IMT} < 25$\n",
        "* **Normal** = $18,5 \\leq \\text{IMT} < 23$\n",
        "* **Underweight** = $\\text{IMT} < 18,5$ \\\\\n",
        "\n",
        "\n",
        "---\n",
        "\n",
        "\n",
        "Jika Rudi memiliki Tinggi Badan $175 \\text{ cm}$ dan Berat Badan $75 \\text{ Kg}$. Termasuk Golongan manakan Berat Badan Rudi?. Buatlah fungsi Python dengan nama **`IMT`** dan parameter fungsi yaitu **`berat`** dalam **Kg** dan **`tinggi`** dalam **cm** untuk menghitung IMT seperti formula di atas. kemudian gunakan fungsi **`IMT`** untuk menentukan kategori dari Berat Badan Rudi !\n",
        "\n"
      ]
    },
    {
      "cell_type": "code",
      "source": [
        "#Membuat Fungsi IMT\n",
        "def IMT (berat, tinggi):\n",
        "  IMT_rudi = berat/(tinggi)**2\n",
        "  return IMT_rudi\n",
        "\n",
        "# Pemanggilan Fungsi\n",
        "IMT_rudi = IMT (75, 1.75)\n",
        "print (\"Maka IMT Rudi adalah =\", IMT_rudi)"
      ],
      "metadata": {
        "colab": {
          "base_uri": "https://localhost:8080/"
        },
        "id": "ch00HEj-29cE",
        "outputId": "eb95d50d-29fd-4b1b-950b-1342a348145f"
      },
      "execution_count": 36,
      "outputs": [
        {
          "output_type": "stream",
          "name": "stdout",
          "text": [
            "Maka IMT Rudi adalah = 24.489795918367346\n"
          ]
        }
      ]
    },
    {
      "cell_type": "code",
      "source": [
        "# Membuat kategori untuk berat badan rudi\n",
        "def IMT (IMT_rudi) :\n",
        "  if IMT_rudi >= 25 :\n",
        "    kategori = 'Obesitas'\n",
        "  elif 23 <= IMT_rudi < 25 :\n",
        "    kategori = 'Overweight'\n",
        "  elif 18.5 <= IMT_rudi < 23 :\n",
        "    kategori = 'Normal'\n",
        "  else :\n",
        "    kategori = 'Underweight'\n",
        "  return kategori\n",
        "\n",
        "print ('Maka berat badan rudi, masuk dalam kategori', IMT (IMT_rudi))\n",
        "IMT (IMT_rudi)"
      ],
      "metadata": {
        "colab": {
          "base_uri": "https://localhost:8080/",
          "height": 55
        },
        "id": "zRS6lspJhLa7",
        "outputId": "066ce285-9d12-451b-b26e-0b5867d15a88"
      },
      "execution_count": 35,
      "outputs": [
        {
          "output_type": "stream",
          "name": "stdout",
          "text": [
            "Maka berat badan rudi, masuk dalam kategori Overweight\n"
          ]
        },
        {
          "output_type": "execute_result",
          "data": {
            "text/plain": [
              "'Overweight'"
            ],
            "application/vnd.google.colaboratory.intrinsic+json": {
              "type": "string"
            }
          },
          "metadata": {},
          "execution_count": 35
        }
      ]
    },
    {
      "cell_type": "markdown",
      "source": [
        "2. Disini Anda akan membuat program tentang menghitung nilai mahasiswa dengan berdasarkan pada nilai harian, nilai uas, dan nilai uts. Untuk Total Nilai, kita ambil dengan ketentuan 30% nilai harian ditambah 30% nilai UTS ditambah 40% Nilai UAS. Buatlah function dengan penjumlahan operator"
      ],
      "metadata": {
        "id": "ep7s1yGI-Ux4"
      }
    },
    {
      "cell_type": "code",
      "source": [
        "# Membuat fungsi total nilai\n",
        "def nilai_mahasiswa (harian, uts, uas):\n",
        "  total_nilai = (harian * 30/100 + uts * 30/100 + uas * 40/100)\n",
        "  return total_nilai\n",
        "\n",
        "# Pemanggilan fungsi\n",
        "total_nilai = nilai_mahasiswa (85, 82, 87)\n",
        "print (\"Jadi nilai akhir mahasiswa tersebut adalah\", total_nilai)"
      ],
      "metadata": {
        "id": "sD5Am6JK-WbU",
        "colab": {
          "base_uri": "https://localhost:8080/"
        },
        "outputId": "c18ded03-e790-40f8-f77d-520659a33b3e"
      },
      "execution_count": null,
      "outputs": [
        {
          "output_type": "stream",
          "name": "stdout",
          "text": [
            "Jadi nilai akhir mahasiswa tersebut adalah 84.9\n"
          ]
        }
      ]
    },
    {
      "cell_type": "markdown",
      "source": [
        "3. Anda akan membuat sebuah function dengan conditional: \\\n",
        "Jika nilai lebih dari sama dengan nol (0) dan kurang dari 20, maka akan akan muncul output E \\\n",
        "Jika Nilai lebih dari sama dengan 20 dan kurang dari 40, maka akan muncul output D \\\n",
        "Jikan Nilai lebih dari sama dengan 40, dan kurang dari 60, maka akan muncul output C \\\n",
        "Jika Nilai lebih dari sama dengan 60, dan kurang dari 80, maka akan muncul output B \\\n",
        "Jika Nilai lebih dari sama dengan 80, dan kurang dari 100, maka akan muncul output A \\\n",
        "Jika diluar kondisi diatas, maka akan muncul output \"Jumlah nilai tidak sesuai dengan kondisi\""
      ],
      "metadata": {
        "id": "eHj0Pgwx-XI6"
      }
    },
    {
      "cell_type": "code",
      "source": [
        "def output (nilai) :\n",
        "  if 0 <= nilai < 20 :\n",
        "    hasil = 'E'\n",
        "  elif 20 <= nilai < 40 :\n",
        "    hasil = 'D'\n",
        "  elif 40 <= nilai < 60 :\n",
        "    hasil = 'C'\n",
        "  elif 60 <= nilai < 80 :\n",
        "    hasil = 'B'\n",
        "  elif 80 <= nilai < 100 :\n",
        "    hasil = 'A'\n",
        "  else :\n",
        "    hasil = 'Jumlah nilai tidak sesuai dengan kondisi'\n",
        "  return hasil\n",
        "\n",
        "nilai = 80\n",
        "print ('Nilai', nilai, 'akan muncul output', output(nilai))\n",
        "output (nilai)"
      ],
      "metadata": {
        "id": "qWhEt2_y-Yxe",
        "colab": {
          "base_uri": "https://localhost:8080/",
          "height": 55
        },
        "outputId": "98c3a865-93a7-44b2-89a8-347ddb5d1348"
      },
      "execution_count": 28,
      "outputs": [
        {
          "output_type": "stream",
          "name": "stdout",
          "text": [
            "Nilai 80 akan muncul output A\n"
          ]
        },
        {
          "output_type": "execute_result",
          "data": {
            "text/plain": [
              "'A'"
            ],
            "application/vnd.google.colaboratory.intrinsic+json": {
              "type": "string"
            }
          },
          "metadata": {},
          "execution_count": 28
        }
      ]
    }
  ]
}
